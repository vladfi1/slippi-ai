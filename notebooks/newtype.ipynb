{
 "cells": [
  {
   "cell_type": "code",
   "execution_count": null,
   "id": "a1ce677b",
   "metadata": {},
   "outputs": [],
   "source": [
    "import typing"
   ]
  },
  {
   "cell_type": "code",
   "execution_count": null,
   "id": "162185d3",
   "metadata": {},
   "outputs": [],
   "source": [
    "PlayerType = typing.NewType('PlayerType', object)"
   ]
  },
  {
   "cell_type": "code",
   "execution_count": null,
   "id": "5040f84d",
   "metadata": {},
   "outputs": [],
   "source": [
    "Human = typing.NewType('Human', PlayerType)"
   ]
  },
  {
   "cell_type": "code",
   "execution_count": null,
   "id": "d024746b",
   "metadata": {},
   "outputs": [],
   "source": []
  },
  {
   "cell_type": "code",
   "execution_count": null,
   "id": "31cd75b0",
   "metadata": {},
   "outputs": [],
   "source": []
  }
 ],
 "metadata": {
  "kernelspec": {
   "display_name": "Python 3 (ipykernel)",
   "language": "python",
   "name": "python3"
  },
  "language_info": {
   "codemirror_mode": {
    "name": "ipython",
    "version": 3
   },
   "file_extension": ".py",
   "mimetype": "text/x-python",
   "name": "python",
   "nbconvert_exporter": "python",
   "pygments_lexer": "ipython3",
   "version": "3.9.5"
  }
 },
 "nbformat": 4,
 "nbformat_minor": 5
}
