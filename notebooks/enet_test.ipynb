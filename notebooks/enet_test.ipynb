{
 "cells": [
  {
   "cell_type": "code",
   "execution_count": null,
   "id": "2d85bea6",
   "metadata": {},
   "outputs": [],
   "source": [
    "import enet"
   ]
  },
  {
   "cell_type": "code",
   "execution_count": null,
   "id": "866e55de",
   "metadata": {},
   "outputs": [],
   "source": [
    "enet.Address(b'127.0.0.1', 0)"
   ]
  },
  {
   "cell_type": "code",
   "execution_count": null,
   "id": "c9d3af1e",
   "metadata": {},
   "outputs": [],
   "source": []
  }
 ],
 "metadata": {
  "kernelspec": {
   "display_name": "Python 3",
   "language": "python",
   "name": "python3"
  },
  "language_info": {
   "codemirror_mode": {
    "name": "ipython",
    "version": 3
   },
   "file_extension": ".py",
   "mimetype": "text/x-python",
   "name": "python",
   "nbconvert_exporter": "python",
   "pygments_lexer": "ipython3",
   "version": "3.8.10"
  }
 },
 "nbformat": 4,
 "nbformat_minor": 5
}
