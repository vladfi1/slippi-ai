{
 "cells": [
  {
   "cell_type": "code",
   "execution_count": null,
   "id": "fdf8d3ec-6440-4635-9718-4239a6075991",
   "metadata": {},
   "outputs": [],
   "source": [
    "import collections\n",
    "import pickle\n",
    "import pandas as pd\n",
    "import os\n",
    "import peppi_py\n",
    "import tree\n",
    "import json\n",
    "import io\n",
    "import math\n",
    "import tqdm.notebook\n",
    "import functools\n",
    "import typing as tp\n",
    "import itertools\n",
    "import melee\n",
    "from slippi_ai import nametags\n",
    "\n",
    "from slippi_db import utils, preprocessing, parse_peppi\n",
    "from slippi_db.scripts.make_local_dataset import check_replay"
   ]
  },
  {
   "cell_type": "code",
   "execution_count": null,
   "id": "93ca83d0-1b9b-4206-8926-e9349a7879ba",
   "metadata": {},
   "outputs": [],
   "source": [
    "from itables import init_notebook_mode\n",
    "init_notebook_mode(all_interactive=True)"
   ]
  },
  {
   "cell_type": "code",
   "execution_count": null,
   "id": "1d99dea6-c23d-466c-9a71-137a97557f0a",
   "metadata": {},
   "outputs": [],
   "source": [
    "root = '/linusr/vlad/SSBM/Replays'"
   ]
  },
  {
   "cell_type": "code",
   "execution_count": null,
   "id": "096ab2e6-592a-4119-9fa3-17d9469a7d48",
   "metadata": {},
   "outputs": [],
   "source": [
    "parsed_path = os.path.join(root, 'parsed.pkl')\n",
    "\n",
    "with open(parsed_path, 'rb') as f:\n",
    "    data_bytes = f.read()\n",
    "len(data_bytes)"
   ]
  },
  {
   "cell_type": "code",
   "execution_count": null,
   "id": "6b0efa52-4dba-49f1-9028-9948df6617a3",
   "metadata": {},
   "outputs": [],
   "source": [
    "%%time\n",
    "data = pickle.loads(data_bytes)\n",
    "del data_bytes\n",
    "len(data)"
   ]
  },
  {
   "cell_type": "code",
   "execution_count": null,
   "id": "b500fc91-8d4c-4164-affd-864710bb5d8a",
   "metadata": {},
   "outputs": [],
   "source": [
    "df = pd.DataFrame(data)"
   ]
  },
  {
   "cell_type": "code",
   "execution_count": null,
   "id": "643354bf-c04c-45be-9096-2ccbb48d22d7",
   "metadata": {},
   "outputs": [],
   "source": [
    "@functools.cache\n",
    "def compact_raw(raw: str) -> str:\n",
    "    if raw.startswith('Players/'):\n",
    "        return raw.split('/')[1]\n",
    "    if raw.startswith('Phillip/'):\n",
    "        return 'Phillip'\n",
    "    return raw\n",
    "\n",
    "df['compact_raw'] = df['raw'].map(compact_raw)"
   ]
  },
  {
   "cell_type": "code",
   "execution_count": null,
   "id": "a7e972d0-2c03-41f2-94a9-2634b46b6043",
   "metadata": {},
   "outputs": [],
   "source": [
    "phillip_df = df[df['compact_raw'] == 'Phillip']\n",
    "len(phillip_df)"
   ]
  },
  {
   "cell_type": "code",
   "execution_count": null,
   "id": "56930a81-abe8-410d-a0c8-cb8e9c854313",
   "metadata": {},
   "outputs": [],
   "source": [
    "def split_row(row: dict) -> tp.Iterator[dict]:\n",
    "    row['not_training_reason'] = check_replay(row)\n",
    "    \n",
    "    players = row['players']\n",
    "    for player, opponent in zip(players, reversed(players)):\n",
    "        new_row = row.copy()\n",
    "        del new_row['players']\n",
    "        new_row.update(player)\n",
    "        new_row['filename'] = new_row['name']\n",
    "\n",
    "        name = nametags.name_from_metadata(player)\n",
    "        new_row['name'] = nametags.normalize_name(name)\n",
    "\n",
    "        opponent_name = nametags.name_from_metadata(opponent)\n",
    "        new_row['opponent_name'] = nametags.normalize_name(opponent_name)\n",
    "\n",
    "        new_row['char'] = char_to_str(player['character'])\n",
    "        new_row['opponent_char'] = char_to_str(opponent['character'])\n",
    "        new_row['compact_raw'] = compact_raw(row['raw'])\n",
    "        yield new_row\n",
    "\n",
    "def char_to_str(char: int) -> str:\n",
    "    return melee.Character(char).name\n",
    "\n",
    "def make_per_player_df(rows):\n",
    "    per_player_data = []\n",
    "    for row in tqdm.notebook.tqdm(rows):\n",
    "        if not row['valid'] or not row['is_training']:\n",
    "            continue\n",
    "        per_player_data.extend(list(split_row(row)))\n",
    "    \n",
    "    return pd.DataFrame(per_player_data)"
   ]
  },
  {
   "cell_type": "code",
   "execution_count": null,
   "id": "f685b3b9-f97e-4695-a117-cd6f420c7757",
   "metadata": {},
   "outputs": [],
   "source": [
    "%%time\n",
    "per_player_df = make_per_player_df(data)"
   ]
  },
  {
   "cell_type": "code",
   "execution_count": null,
   "id": "08571a82-6ced-487b-941a-d018a1ec7f5d",
   "metadata": {},
   "outputs": [],
   "source": [
    "vs_phil_df = per_player_df[per_player_df['compact_raw'] == 'Phillip']\n",
    "vs_phil_df = vs_phil_df[vs_phil_df['name'] != 'Phillip AI']\n",
    "len(vs_phil_df)"
   ]
  },
  {
   "cell_type": "code",
   "execution_count": null,
   "id": "ef2c3ec5-3cc6-4c52-940c-50dd91c46433",
   "metadata": {},
   "outputs": [],
   "source": [
    "training_phil_df = vs_phil_df[vs_phil_df['not_training_reason'].isnull()].copy()\n",
    "len(training_phil_df)"
   ]
  },
  {
   "cell_type": "code",
   "execution_count": null,
   "id": "1ee0bf12-8bbd-4cf8-90da-1d3da8daa29b",
   "metadata": {},
   "outputs": [],
   "source": [
    "training_phil_df.sort_values('startAt', inplace=True)"
   ]
  },
  {
   "cell_type": "code",
   "execution_count": null,
   "id": "b95fb61c-5c44-4d26-9d56-2ddf49cb2d25",
   "metadata": {},
   "outputs": [],
   "source": [
    "matchup_df = training_phil_df.groupby(['char', 'opponent_char']).tail(5).reset_index()\n",
    "len(matchup_df)"
   ]
  },
  {
   "cell_type": "code",
   "execution_count": null,
   "id": "29176a72-44e3-414c-8272-a4aa12c070d7",
   "metadata": {},
   "outputs": [],
   "source": [
    "dataset_root = '/linusr/vlad/SSBM/Replays/'"
   ]
  },
  {
   "cell_type": "code",
   "execution_count": null,
   "id": "e089c24a-3a0b-4131-a1a2-6a24ddbd1171",
   "metadata": {},
   "outputs": [],
   "source": [
    "files_to_copy = {}\n",
    "for raw, filename in zip(matchup_df['raw'], matchup_df['filename']):\n",
    "    files_to_copy.setdefault(raw, []).append(filename)"
   ]
  },
  {
   "cell_type": "code",
   "execution_count": null,
   "id": "4fe88b58-8bd5-4727-b096-67852738c385",
   "metadata": {
    "jupyter": {
     "outputs_hidden": true
    }
   },
   "outputs": [],
   "source": [
    "dest_zip = os.path.join(dataset_root, 'PhillipMatchupCompilation.zip')\n",
    "\n",
    "if os.path.exists(dest_zip):\n",
    "    os.remove(dest_zip)\n",
    "\n",
    "sources_and_files = [\n",
    "    (os.path.join(dataset_root, 'Raw', raw), filenames)\n",
    "    for raw, filenames in files_to_copy.items()\n",
    "]\n",
    "\n",
    "utils.copy_multi_zip_files(sources_and_files, dest_zip)"
   ]
  },
  {
   "cell_type": "code",
   "execution_count": null,
   "id": "0461bdf5-485c-41ef-bc18-af9d3c4e721d",
   "metadata": {},
   "outputs": [],
   "source": [
    "matchup_df['name'].value_counts()"
   ]
  },
  {
   "cell_type": "code",
   "execution_count": null,
   "id": "a2ee739a-a7e0-4cb1-af77-5b78294cba09",
   "metadata": {},
   "outputs": [],
   "source": [
    "to_rename = []\n",
    "\n",
    "for char, phil_char, filename in zip(\n",
    "    matchup_df['char'], matchup_df['opponent_char'], matchup_df['filename']):\n",
    "    to_rename.append((filename, f'{phil_char}-{char}/{os.path.basename(filename)}'))"
   ]
  },
  {
   "cell_type": "code",
   "execution_count": null,
   "id": "93263d3d-e2fc-45bd-805e-8dec8a9d0d19",
   "metadata": {},
   "outputs": [],
   "source": [
    "utils.rename_within_zip(dest_zip, to_rename)"
   ]
  }
 ],
 "metadata": {
  "kernelspec": {
   "display_name": "Python 3 (ipykernel)",
   "language": "python",
   "name": "python3"
  },
  "language_info": {
   "codemirror_mode": {
    "name": "ipython",
    "version": 3
   },
   "file_extension": ".py",
   "mimetype": "text/x-python",
   "name": "python",
   "nbconvert_exporter": "python",
   "pygments_lexer": "ipython3",
   "version": "3.10.12"
  }
 },
 "nbformat": 4,
 "nbformat_minor": 5
}
