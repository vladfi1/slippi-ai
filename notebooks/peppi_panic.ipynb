{
 "cells": [
  {
   "cell_type": "code",
   "execution_count": 7,
   "id": "5041ce98-a30f-413b-adc9-e9c831f83354",
   "metadata": {},
   "outputs": [],
   "source": [
    "import pickle\n",
    "import os\n",
    "import pandas as pd"
   ]
  },
  {
   "cell_type": "code",
   "execution_count": 2,
   "id": "4678b894-a3ef-48ad-b59d-cb8184187e96",
   "metadata": {},
   "outputs": [],
   "source": [
    "root = '/Users/vlad/SSBM/Replays/Test/'"
   ]
  },
  {
   "cell_type": "code",
   "execution_count": 5,
   "id": "51187b54-7248-4e02-83cc-516ef54baec2",
   "metadata": {},
   "outputs": [],
   "source": [
    "with open(os.path.join(root, 'parsed.pkl'), 'rb') as f:\n",
    "    db = pickle.load(f)"
   ]
  },
  {
   "cell_type": "code",
   "execution_count": 8,
   "id": "2a0f8462-c516-476f-a627-f651ab2e1ade",
   "metadata": {},
   "outputs": [],
   "source": [
    "df = pd.DataFrame(db)"
   ]
  },
  {
   "cell_type": "code",
   "execution_count": 9,
   "id": "5f303d84-eb1d-47a3-9a82-b2ba1227b6bd",
   "metadata": {},
   "outputs": [
    {
     "data": {
      "text/plain": [
       "Index(['startAt', 'playedOn', 'lastFrame', 'slippi_version', 'num_players',\n",
       "       'players', 'stage', 'timer', 'is_teams', 'winner', 'valid',\n",
       "       'is_training', 'not_training_reason', 'name', 'md5', 'reason'],\n",
       "      dtype='object')"
      ]
     },
     "execution_count": 9,
     "metadata": {},
     "output_type": "execute_result"
    }
   ],
   "source": [
    "df.keys()"
   ]
  },
  {
   "cell_type": "code",
   "execution_count": 10,
   "id": "b5092aea-e865-4033-9b91-f379224ba8c7",
   "metadata": {},
   "outputs": [],
   "source": [
    "invalid = df[df['valid'] == False]"
   ]
  },
  {
   "cell_type": "code",
   "execution_count": 11,
   "id": "b5cdd617-3a6d-4a34-a8f1-0654558f2c5d",
   "metadata": {},
   "outputs": [
    {
     "data": {
      "text/plain": [
       "reason\n",
       "'P2'                                                                                                                                                                                                                                            2453\n",
       "'P1'                                                                                                                                                                                                                                            1073\n",
       "I/O error: failed to fill whole buffer                                                                                                                                                                                                             5\n",
       "Needed to copy 1 chunks with 172 nulls, but zero_copy_only was True                                                                                                                                                                                2\n",
       "Needed to copy 1 chunks with 12 nulls, but zero_copy_only was True                                                                                                                                                                                 2\n",
       "                                                                                                                                                                                                                                                ... \n",
       "Needed to copy 1 chunks with 266 nulls, but zero_copy_only was True                                                                                                                                                                                1\n",
       "Needed to copy 1 chunks with 183 nulls, but zero_copy_only was True                                                                                                                                                                                1\n",
       "Needed to copy 1 chunks with 3369 nulls, but zero_copy_only was True                                                                                                                                                                               1\n",
       "Needed to copy 1 chunks with 61 nulls, but zero_copy_only was True                                                                                                                                                                                 1\n",
       "called `Result::unwrap()` on an `Err` value: OutOfSpec(\"The children must have an equal number of values.\\n                         However, the values at index 1 have a length of 1957, which is different from values at index 0, 1958.\")       1\n",
       "Name: count, Length: 85, dtype: int64"
      ]
     },
     "execution_count": 11,
     "metadata": {},
     "output_type": "execute_result"
    }
   ],
   "source": [
    "invalid['reason'].value_counts()"
   ]
  },
  {
   "cell_type": "code",
   "execution_count": 20,
   "id": "7e3d37e9-24ef-446f-9134-9a149f38a93d",
   "metadata": {},
   "outputs": [],
   "source": [
    "called = invalid[invalid['reason'].map(lambda s: s.startswith('called'))]"
   ]
  },
  {
   "cell_type": "code",
   "execution_count": 27,
   "id": "1f74bb47-ad91-4679-bc78-97ffafb3320e",
   "metadata": {},
   "outputs": [
    {
     "data": {
      "text/html": [
       "<div>\n",
       "<style scoped>\n",
       "    .dataframe tbody tr th:only-of-type {\n",
       "        vertical-align: middle;\n",
       "    }\n",
       "\n",
       "    .dataframe tbody tr th {\n",
       "        vertical-align: top;\n",
       "    }\n",
       "\n",
       "    .dataframe thead th {\n",
       "        text-align: right;\n",
       "    }\n",
       "</style>\n",
       "<table border=\"1\" class=\"dataframe\">\n",
       "  <thead>\n",
       "    <tr style=\"text-align: right;\">\n",
       "      <th></th>\n",
       "      <th>valid</th>\n",
       "      <th>name</th>\n",
       "      <th>md5</th>\n",
       "      <th>reason</th>\n",
       "    </tr>\n",
       "  </thead>\n",
       "  <tbody>\n",
       "    <tr>\n",
       "      <th>473</th>\n",
       "      <td>False</td>\n",
       "      <td>Falco vs  Falcon (PS) 12.12.20217.37.19 PM.slp</td>\n",
       "      <td>b7e3b71e5c391fb850f7d670f112ea63</td>\n",
       "      <td>called `Result::unwrap()` on an `Err` value: O...</td>\n",
       "    </tr>\n",
       "    <tr>\n",
       "      <th>2379</th>\n",
       "      <td>False</td>\n",
       "      <td>Fox vs  Fox (DL) 12.12.20218.02.45 PM.slp</td>\n",
       "      <td>59097a4ad00be49f02f81b14b3d27471</td>\n",
       "      <td>called `Result::unwrap()` on an `Err` value: O...</td>\n",
       "    </tr>\n",
       "    <tr>\n",
       "      <th>3415</th>\n",
       "      <td>False</td>\n",
       "      <td>Fox vs  Samus (FD) 12.12.20216.56.52 PM.slp</td>\n",
       "      <td>2b93e271b72b4056249d2c959cae2325</td>\n",
       "      <td>called `Result::unwrap()` on an `Err` value: O...</td>\n",
       "    </tr>\n",
       "    <tr>\n",
       "      <th>3421</th>\n",
       "      <td>False</td>\n",
       "      <td>Fox vs  Samus (YS) 12.12.20216.50.58 PM.slp</td>\n",
       "      <td>a53bf279dcfdf85386999a78b0d0d526</td>\n",
       "      <td>called `Result::unwrap()` on an `Err` value: O...</td>\n",
       "    </tr>\n",
       "  </tbody>\n",
       "</table>\n",
       "</div>"
      ],
      "text/plain": [
       "      valid                                             name  \\\n",
       "473   False   Falco vs  Falcon (PS) 12.12.20217.37.19 PM.slp   \n",
       "2379  False        Fox vs  Fox (DL) 12.12.20218.02.45 PM.slp   \n",
       "3415  False      Fox vs  Samus (FD) 12.12.20216.56.52 PM.slp   \n",
       "3421  False      Fox vs  Samus (YS) 12.12.20216.50.58 PM.slp   \n",
       "\n",
       "                                   md5  \\\n",
       "473   b7e3b71e5c391fb850f7d670f112ea63   \n",
       "2379  59097a4ad00be49f02f81b14b3d27471   \n",
       "3415  2b93e271b72b4056249d2c959cae2325   \n",
       "3421  a53bf279dcfdf85386999a78b0d0d526   \n",
       "\n",
       "                                                 reason  \n",
       "473   called `Result::unwrap()` on an `Err` value: O...  \n",
       "2379  called `Result::unwrap()` on an `Err` value: O...  \n",
       "3415  called `Result::unwrap()` on an `Err` value: O...  \n",
       "3421  called `Result::unwrap()` on an `Err` value: O...  "
      ]
     },
     "execution_count": 27,
     "metadata": {},
     "output_type": "execute_result"
    }
   ],
   "source": [
    "called = called.dropna(axis=1)\n",
    "called"
   ]
  },
  {
   "cell_type": "code",
   "execution_count": 31,
   "id": "8335d132-0b07-4be7-977e-2b11627438f6",
   "metadata": {},
   "outputs": [],
   "source": [
    "out = 'data/panic'\n",
    "os.makedirs(out, exist_ok=True)"
   ]
  },
  {
   "cell_type": "code",
   "execution_count": 43,
   "id": "04eab592-8dc3-461c-9a31-ddc16faef622",
   "metadata": {},
   "outputs": [],
   "source": [
    "raw = os.path.join(root, 'Raw/Summit-004.zip')\n",
    "assert os.path.exists(raw)"
   ]
  },
  {
   "cell_type": "code",
   "execution_count": 41,
   "id": "b555fb8d-3783-4cc2-8256-cb0e814ccaf2",
   "metadata": {},
   "outputs": [],
   "source": [
    "from slippi_db import utils\n",
    "import subprocess"
   ]
  },
  {
   "cell_type": "code",
   "execution_count": 45,
   "id": "32bc396e-979a-4a66-9832-5887e7b8f7a0",
   "metadata": {},
   "outputs": [],
   "source": [
    "for name in called['name']:\n",
    "    subprocess.check_call(\n",
    "        ['unzip', raw, name, '-d', out],\n",
    "        stdout=subprocess.DEVNULL)\n",
    "    # zf = utils.ZipFile(raw, name)\n",
    "    # with open(os.path.join(out, name), 'wb') as f:\n",
    "    #     f.write(zf.read())"
   ]
  },
  {
   "cell_type": "code",
   "execution_count": 38,
   "id": "b6cca251-0cc0-48f0-8ef3-7d0c5747f110",
   "metadata": {},
   "outputs": [
    {
     "data": {
      "text/plain": [
       "' Falco vs  Falcon (PS) 12.12.20217.37.19 PM.slp'"
      ]
     },
     "execution_count": 38,
     "metadata": {},
     "output_type": "execute_result"
    }
   ],
   "source": [
    "called['name'].iat[0]"
   ]
  },
  {
   "cell_type": "code",
   "execution_count": null,
   "id": "50b23575-1f36-4ed3-8d30-533d3e9194cd",
   "metadata": {},
   "outputs": [],
   "source": []
  }
 ],
 "metadata": {
  "kernelspec": {
   "display_name": "Python 3 (ipykernel)",
   "language": "python",
   "name": "python3"
  },
  "language_info": {
   "codemirror_mode": {
    "name": "ipython",
    "version": 3
   },
   "file_extension": ".py",
   "mimetype": "text/x-python",
   "name": "python",
   "nbconvert_exporter": "python",
   "pygments_lexer": "ipython3",
   "version": "3.9.13"
  }
 },
 "nbformat": 4,
 "nbformat_minor": 5
}
