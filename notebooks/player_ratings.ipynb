{
 "cells": [
  {
   "cell_type": "code",
   "execution_count": null,
   "id": "8ce22fc3-a6ea-45b2-ae38-1003cadd8ed7",
   "metadata": {},
   "outputs": [],
   "source": [
    "import functools\n",
    "import pickle\n",
    "import collections\n",
    "import tqdm\n",
    "import tinydb\n",
    "import subprocess\n",
    "import numpy as np\n",
    "import os\n",
    "\n",
    "from slippi_ai import nametags\n",
    "from slippi_db.scripts.make_local_dataset import check_replay\n",
    "from slippi_db.utils import delete_from_zip\n",
    "\n",
    "from slippi import slippi_api as slippi_api_lib\n",
    "import ratelimiter\n",
    "from tinydb import TinyDB, Query\n",
    "import tqdm.notebook\n",
    "import datetime\n",
    "import logging\n",
    "from slippi_ai import nametags\n",
    "\n",
    "import pandas as pd\n"
   ]
  },
  {
   "cell_type": "code",
   "execution_count": null,
   "id": "5e53bafb-ebd8-4eae-8853-a2badd1e01ae",
   "metadata": {},
   "outputs": [],
   "source": [
    "from itables import init_notebook_mode\n",
    "init_notebook_mode(all_interactive=True)"
   ]
  },
  {
   "cell_type": "code",
   "execution_count": null,
   "id": "5a900e3c-f40c-4e70-adcc-00da2008b67b",
   "metadata": {},
   "outputs": [],
   "source": [
    "%%time\n",
    "parsed_pkl_path = '/linusr/vlad/SSBM/Replays/parsed.pkl'\n",
    "\n",
    "with open(parsed_pkl_path, 'rb') as f:\n",
    "    parsed_rows = pickle.load(f)"
   ]
  },
  {
   "cell_type": "code",
   "execution_count": null,
   "id": "0b34066a-e2a2-4f5d-9cd4-9d7c47b4d598",
   "metadata": {},
   "outputs": [],
   "source": [
    "phillip_rows = [\n",
    "    row for row in parsed_rows\n",
    "    if row['raw'].startswith('Phillip/')]\n",
    "len(phillip_rows)"
   ]
  },
  {
   "cell_type": "code",
   "execution_count": null,
   "id": "0f634acd-b465-4984-b466-186e27b28387",
   "metadata": {},
   "outputs": [],
   "source": [
    "reasons = [check_replay(row, winner_only=False) for row in phillip_rows]"
   ]
  },
  {
   "cell_type": "code",
   "execution_count": null,
   "id": "b62c5c9a-63a3-4455-a52b-b0b446a5c070",
   "metadata": {},
   "outputs": [],
   "source": [
    "by_reason = collections.defaultdict(list)\n",
    "for row, reason in zip(phillip_rows, reasons):\n",
    "    by_reason[reason].append(row)"
   ]
  },
  {
   "cell_type": "code",
   "execution_count": null,
   "id": "6f13be34-0bf9-427d-90d6-659f6751c1b8",
   "metadata": {},
   "outputs": [],
   "source": [
    "for reason, rows in by_reason.items():\n",
    "    print(reason, len(rows))"
   ]
  },
  {
   "cell_type": "code",
   "execution_count": null,
   "id": "8a82efa3-b063-4d3d-9411-eca920e6acbb",
   "metadata": {},
   "outputs": [],
   "source": [
    "ok_reasons = [None, 'unknown player vs phillip']\n",
    "for reason in ok_reasons:\n",
    "    assert reason in by_reason"
   ]
  },
  {
   "cell_type": "code",
   "execution_count": null,
   "id": "693c1f83-ef8a-4d26-9200-ae68f8411428",
   "metadata": {},
   "outputs": [],
   "source": [
    "ok_rows = []\n",
    "for reason in ok_reasons:\n",
    "    ok_rows.extend(by_reason[reason])"
   ]
  },
  {
   "cell_type": "code",
   "execution_count": null,
   "id": "17e0e498-4a3e-4b1d-b4ba-99f405670183",
   "metadata": {},
   "outputs": [],
   "source": [
    "PHILLIP_CODE = 'PHAI#591'\n",
    "\n",
    "def get_name(row):\n",
    "    for player in row['players']:\n",
    "        name = nametags.name_from_metadata(player)\n",
    "        if name != PHILLIP_CODE:\n",
    "            return name\n",
    "    assert False"
   ]
  },
  {
   "cell_type": "code",
   "execution_count": null,
   "id": "0a4eb0e1-d5f8-4b0e-837d-20a553d53953",
   "metadata": {},
   "outputs": [],
   "source": [
    "names = collections.Counter()\n",
    "\n",
    "for row in ok_rows:\n",
    "    names[get_name(row)] += 1\n",
    "len(names)"
   ]
  },
  {
   "cell_type": "code",
   "execution_count": null,
   "id": "7165a23f-214a-4a83-ae1b-23574a776323",
   "metadata": {},
   "outputs": [],
   "source": [
    "slippi_api_lib.logger.setLevel(logging.WARN)"
   ]
  },
  {
   "cell_type": "code",
   "execution_count": null,
   "id": "788e95ba-9941-4488-acb2-96465a978adf",
   "metadata": {},
   "outputs": [],
   "source": [
    "slippi_api = slippi_api_lib.SlippiRankedAPI()"
   ]
  },
  {
   "cell_type": "code",
   "execution_count": null,
   "id": "2d1d8d1d-1503-4d61-8505-4cac739287f3",
   "metadata": {},
   "outputs": [],
   "source": [
    "slippi_api._limiter = ratelimiter.RateLimiter(1)"
   ]
  },
  {
   "cell_type": "code",
   "execution_count": null,
   "id": "cf9eab1c-c335-44f7-b750-b9c852c84978",
   "metadata": {},
   "outputs": [],
   "source": [
    "def get_seasons(code):\n",
    "    slippi_data = slippi_api.get_player_data_throttled(code)\n",
    "    if slippi_data is None:\n",
    "        return None\n",
    "\n",
    "    user = slippi_data['data']['getUser']\n",
    "    if user is None:\n",
    "        return None\n",
    "\n",
    "    old_seasons = user['rankedNetplayProfileHistory']\n",
    "    current_season = user['rankedNetplayProfile']\n",
    "    return old_seasons + [current_season]\n",
    "\n",
    "def get_max_rating(code) -> float | None:\n",
    "    seasons = get_seasons(code)\n",
    "    if seasons is None:\n",
    "        return None\n",
    "    if len(seasons) == 0:\n",
    "        return None\n",
    "    return max(season['ratingOrdinal'] for season in seasons)    \n",
    "\n",
    "def get_data(code) -> dict:\n",
    "    max_rating = get_max_rating(code)\n",
    "    date = datetime.datetime.now().strftime(\"%Y-%m-%d\")\n",
    "\n",
    "    return dict(\n",
    "        code=code,\n",
    "        max_rating=max_rating,\n",
    "        date=date,\n",
    "        # Num games played?\n",
    "        # Display Name\n",
    "    )"
   ]
  },
  {
   "cell_type": "code",
   "execution_count": null,
   "id": "76b19887-8bf9-4d54-ae3d-8b90143a118a",
   "metadata": {},
   "outputs": [],
   "source": [
    "DB_PATH = '/linusr/vlad/SSBM/ranks.json'\n",
    "\n",
    "def update_codes(codes: list[str], db_path=DB_PATH):\n",
    "    db = TinyDB(db_path)\n",
    "\n",
    "    rows = db.all()\n",
    "    already_seen = set(row['code'] for row in rows)\n",
    "    \n",
    "    for code in tqdm.notebook.tqdm(codes):\n",
    "        if code in already_seen:\n",
    "            continue\n",
    "    \n",
    "        data = get_data(code)\n",
    "        db.insert(data)\n",
    "\n",
    "    db.close()\n",
    "\n",
    "    return {row['code']: row for row in rows}"
   ]
  },
  {
   "cell_type": "code",
   "execution_count": null,
   "id": "92d4ead8-0e7c-4f0d-9a27-9b1ac942dd43",
   "metadata": {},
   "outputs": [],
   "source": [
    "code_to_data = update_codes(names)"
   ]
  },
  {
   "cell_type": "code",
   "execution_count": null,
   "id": "0130a80a-3189-4487-984c-06a53c1a6fcb",
   "metadata": {},
   "outputs": [],
   "source": [
    "codes_and_elos = [\n",
    "    (code, data['max_rating'])\n",
    "    for code, data in code_to_data.items()\n",
    "    if data['max_rating'] is not None\n",
    "]"
   ]
  },
  {
   "cell_type": "code",
   "execution_count": null,
   "id": "2ef99e80-3801-4e8f-b02a-02c17013a201",
   "metadata": {},
   "outputs": [],
   "source": [
    "codes_and_elos.sort(key=lambda x: x[1], reverse=True)"
   ]
  },
  {
   "cell_type": "code",
   "execution_count": null,
   "id": "10897f9d-8148-46d4-aa34-07218add5a49",
   "metadata": {},
   "outputs": [],
   "source": [
    "len(codes_and_elos)"
   ]
  },
  {
   "cell_type": "code",
   "execution_count": null,
   "id": "ca99b09e-5e0e-4547-9f4e-0d868dedb283",
   "metadata": {},
   "outputs": [],
   "source": [
    "def code_from_player(player: dict) -> str:\n",
    "    netplay = player.get('netplay')\n",
    "    if netplay is None:\n",
    "        return None\n",
    "    return netplay['code'].replace('＃', '#')\n",
    "\n",
    "all_names = collections.Counter()\n",
    "\n",
    "for row in parsed_rows:\n",
    "    if not row['valid'] or not row['is_training']:\n",
    "        continue\n",
    "\n",
    "    for player in row['players']:\n",
    "        code = code_from_player(player)\n",
    "        name = nametags.normalize_name(code)\n",
    "        if code:\n",
    "            all_names[name] += 1\n",
    "\n",
    "len(all_names)"
   ]
  },
  {
   "cell_type": "code",
   "execution_count": null,
   "id": "453e4c48-2163-47a1-a229-4748d09719ed",
   "metadata": {},
   "outputs": [],
   "source": [
    "all_names.most_common(10)"
   ]
  },
  {
   "cell_type": "code",
   "execution_count": null,
   "id": "0014ce72-933b-4e9e-abd3-693e1009b717",
   "metadata": {},
   "outputs": [],
   "source": [
    "# Take into account known multiple accounts\n",
    "\n",
    "normalized_to_elo = {}\n",
    "for code, elo in codes_and_elos:\n",
    "    name = nametags.normalize_name(code)\n",
    "    prev_elo = normalized_to_elo.get(name)\n",
    "    if prev_elo is None:\n",
    "        normalized_to_elo[name] = elo\n",
    "    else:\n",
    "        normalized_to_elo[name] = max(elo, prev_elo)\n",
    "        print(f'Found duplicate code {code}')\n",
    "\n",
    "code_to_elo = {}\n",
    "\n",
    "for code, _ in codes_and_elos:\n",
    "    code_to_elo[code] = normalized_to_elo[nametags.normalize_name(code)]"
   ]
  },
  {
   "cell_type": "code",
   "execution_count": null,
   "id": "3b957b3f-b4d5-4ee5-a286-ce25171af535",
   "metadata": {},
   "outputs": [],
   "source": [
    "_rows = []\n",
    "\n",
    "for name, count in all_names.items():\n",
    "    _rows.append(dict(\n",
    "        name=name,\n",
    "        elo=normalized_to_elo.get(name),\n",
    "        count=count,\n",
    "    ))\n",
    "\n",
    "elo_df = pd.DataFrame(_rows)"
   ]
  },
  {
   "cell_type": "code",
   "execution_count": null,
   "id": "43ce7832-fdf2-49eb-9f7c-4cef62811b14",
   "metadata": {},
   "outputs": [],
   "source": [
    "df = elo_df[~elo_df['elo'].isna()].sort_values('count', ascending=False)\n",
    "df = df[df['elo'] > 2000].sort_values('count', ascending=False)\n",
    "df"
   ]
  },
  {
   "cell_type": "code",
   "execution_count": null,
   "id": "242692a6-93c5-48a1-b07a-24139922911c",
   "metadata": {},
   "outputs": [],
   "source": [
    "def code_from_player(player: dict) -> str:\n",
    "    if 'netplay' not in player:\n",
    "        return None\n",
    "    return player['netplay']['code'].replace('＃', '#')\n",
    "\n",
    "def get_phil_and_opponent(players):\n",
    "    phil = None\n",
    "    opponent = None\n",
    "\n",
    "    for player in row['players']:\n",
    "        code = code_from_player(player)\n",
    "        if code == PHILLIP_CODE:\n",
    "            phil = player\n",
    "        else:\n",
    "            opponent = player\n",
    "\n",
    "    return phil, opponent\n",
    "\n",
    "def get_model(filepath: str) -> str:\n",
    "    components = filepath.split('/')\n",
    "    if components[0] == 'Twitchbot':\n",
    "        return components[1]\n",
    "    return components[0]"
   ]
  },
  {
   "cell_type": "code",
   "execution_count": null,
   "id": "422ac613-1efc-4feb-86ab-e455bb91900b",
   "metadata": {},
   "outputs": [],
   "source": [
    "match_results = []\n",
    "\n",
    "for row in ok_rows:\n",
    "    result = {}\n",
    "\n",
    "    result['file'] = row['name']\n",
    "    result['model'] = get_model(row['name'])\n",
    "\n",
    "    phil, opponent = get_phil_and_opponent(row['players'])\n",
    "    if phil is None or opponent is None:\n",
    "        continue\n",
    "\n",
    "    winner_port = row['winner']\n",
    "    if winner_port is not None:\n",
    "        result['phillip_won'] = winner_port == phil['port']\n",
    "    else:\n",
    "        # Assume opponent quit because they were losing.\n",
    "        result['phillip_won'] = True\n",
    "\n",
    "    opponent_code = code_from_player(opponent)\n",
    "    result['opponent_name'] = nametags.normalize_name(opponent_code)\n",
    "    result['opponent_rating'] = code_to_elo.get(opponent_code)\n",
    "    result['phillip_char'] = phil['character']\n",
    "    result['opponent_char'] = opponent['character']\n",
    "\n",
    "    for key in ['startAt']:\n",
    "        result[key] = row[key]\n",
    "\n",
    "    match_results.append(result)\n",
    "\n",
    "num_dropped = len(ok_rows) - len(match_results)\n",
    "print(f'Processed {len(match_results)} matches, dropped {num_dropped}.')"
   ]
  },
  {
   "cell_type": "code",
   "execution_count": null,
   "id": "b5eea47d-53b7-4004-a700-0af89ca68292",
   "metadata": {},
   "outputs": [],
   "source": [
    "filters = [\n",
    "    ('no opponent rating', lambda row: row['opponent_rating'] is not None),\n",
    "    # ('no game winner', lambda row: 'phillip_won' in row),\n",
    "]\n",
    "\n",
    "ok_results = match_results\n",
    "\n",
    "for reason, filt in filters:\n",
    "    prev_num = len(ok_results)\n",
    "    ok_results = list(filter(filt, ok_results))\n",
    "    num_dropped = prev_num - len(ok_results)\n",
    "    percent = num_dropped / prev_num * 100\n",
    "    print(f'Dropped {num_dropped} ({percent:.1f}%) due to {reason}')\n",
    "\n",
    "print(f'{len(ok_results)} games remain')"
   ]
  },
  {
   "cell_type": "code",
   "execution_count": null,
   "id": "cd63da25-7fb9-4e42-98ed-db02b963b1de",
   "metadata": {},
   "outputs": [],
   "source": [
    "from openskill import models"
   ]
  },
  {
   "cell_type": "code",
   "execution_count": null,
   "id": "9c3c9d86-a750-461e-aa6b-461b3cdb4b06",
   "metadata": {},
   "outputs": [],
   "source": [
    "ORDINAL_SCALING = 25.0\n",
    "ORDINAL_OFFSET = 1100.0\n",
    "SLIPPI_SIGMA = 3\n",
    "\n",
    "def rating_to_slippi(rating):\n",
    "    return ORDINAL_SCALING * (rating.mu - 3*rating.sigma) + ORDINAL_OFFSET\n",
    "\n",
    "def rating_from_slippi(ordinal: float, sigma=SLIPPI_SIGMA):\n",
    "    mu = (ordinal - ORDINAL_OFFSET) / ORDINAL_SCALING + 3 * sigma\n",
    "    return [mu, sigma]"
   ]
  },
  {
   "cell_type": "code",
   "execution_count": null,
   "id": "7ea9fa5e-b796-47ff-9918-9a459672bbb7",
   "metadata": {},
   "outputs": [],
   "source": [
    "model = models.BradleyTerryFull()"
   ]
  },
  {
   "cell_type": "code",
   "execution_count": null,
   "id": "020a6c19-c280-44cd-be29-9fa9ac7c18ad",
   "metadata": {},
   "outputs": [],
   "source": [
    "match_results[0]"
   ]
  },
  {
   "cell_type": "code",
   "execution_count": null,
   "id": "7b650fcf-d9a0-4175-8a69-047f353c0bcf",
   "metadata": {},
   "outputs": [],
   "source": [
    "opponents = {}\n",
    "agents = {}\n",
    "\n",
    "for result in tqdm.notebook.tqdm(ok_results):\n",
    "    name = result['opponent_name']\n",
    "    if name not in opponents:\n",
    "        rating = rating_from_slippi(result['opponent_rating'])\n",
    "        opponents[name] = model.create_rating(rating, name=name)\n",
    "\n",
    "    agent = result['model']\n",
    "    if agent not in agents:\n",
    "        agents[agent] = model.rating(name=agent)\n",
    "\n",
    "    teams = [[agents[agent]], [opponents[name]]]\n",
    "    ranks = [0, 1]\n",
    "    if not result['phillip_won']:\n",
    "        ranks.reverse()\n",
    "\n",
    "    [agents[agent]], _ = model.rate(teams, ranks=ranks)"
   ]
  },
  {
   "cell_type": "code",
   "execution_count": null,
   "id": "4dad7c7f-c6aa-41c4-87a2-1e4cdf0a9ffe",
   "metadata": {},
   "outputs": [],
   "source": [
    "agent_ordinals = {\n",
    "    agent: rating_to_slippi(agents[agent])\n",
    "    for agent in agents\n",
    "}"
   ]
  },
  {
   "cell_type": "code",
   "execution_count": null,
   "id": "515f3445-78f8-44b8-aace-93cceb5fe2c0",
   "metadata": {},
   "outputs": [],
   "source": [
    "agent_df = pd.DataFrame({'ordinal': agent_ordinals.values()}, index=agent_ordinals.keys())\n",
    "agent_df['num_games'] = match_df['model'].value_counts()\n",
    "agent_df.sort_values('ordinal', ascending=False, inplace=True)"
   ]
  },
  {
   "cell_type": "code",
   "execution_count": null,
   "id": "f7039a72-c2e1-4b02-af9f-7a0af6136809",
   "metadata": {},
   "outputs": [],
   "source": [
    "agent_df[agent_df.index.map(lambda agent: agent.startswith('auto'))"
   ]
  },
  {
   "cell_type": "code",
   "execution_count": null,
   "id": "349dd9ce-23e9-4685-b127-e619ac43fdaf",
   "metadata": {},
   "outputs": [],
   "source": [
    "match_df = pd.DataFrame(ok_results)"
   ]
  },
  {
   "cell_type": "code",
   "execution_count": null,
   "id": "bfa2e12d-9c4a-4026-ade1-4ff97366f0d9",
   "metadata": {},
   "outputs": [],
   "source": [
    "win_rates = match_df.groupby('opponent_name')['phillip_won'].mean()\n",
    "win_rates = win_rates.reset_index(name='phillip winrate').set_index('opponent_name')\n",
    "win_rates['count'] = match_df['opponent_name'].value_counts()\n",
    "win_rates['opponent_elo'] = win_rates.index.map(normalized_to_elo.get)\n",
    "win_rates.sort_values('opponent_elo', ascending=False, inplace=True)\n",
    "win_rates"
   ]
  },
  {
   "cell_type": "code",
   "execution_count": null,
   "id": "3686f13b-30d5-4cf4-9d39-dd3a4d8c2ff5",
   "metadata": {},
   "outputs": [],
   "source": [
    "win_rates['count'] = match_df['opponent_name'].value_counts()\n",
    "win_rates"
   ]
  },
  {
   "cell_type": "code",
   "execution_count": null,
   "id": "48b5a1d0-4dbd-4d1c-8469-34f6f6d8a060",
   "metadata": {},
   "outputs": [],
   "source": [
    "match_df['opponent_name'].value_counts()"
   ]
  },
  {
   "cell_type": "code",
   "execution_count": null,
   "id": "3c3f977c-8fc9-43ff-aa92-aa3a06804e9b",
   "metadata": {},
   "outputs": [],
   "source": [
    "win_rates"
   ]
  },
  {
   "cell_type": "code",
   "execution_count": null,
   "id": "d27d2dcf-ec97-4531-af28-df4413503a72",
   "metadata": {},
   "outputs": [],
   "source": [
    "def get_win_rates(model: str | None) -> pd.DataFrame:\n",
    "    df = match_df\n",
    "    if model:\n",
    "        df = df[df['model'] == model]\n",
    "    win_rates = df.groupby('opponent_name')['phillip_won'].mean()\n",
    "    win_rates = win_rates.reset_index(name='phillip winrate')\n",
    "    win_rates['opponent_elo'] = win_rates['opponent_name'].map(normalized_to_elo.get)\n",
    "    win_rates.sort_values('opponent_elo', ascending=False, inplace=True)\n",
    "    return win_rates"
   ]
  },
  {
   "cell_type": "code",
   "execution_count": null,
   "id": "8bffadb6-1492-4db4-9f3e-7f3587220da3",
   "metadata": {},
   "outputs": [],
   "source": [
    "get_win_rates('auto-fox')"
   ]
  },
  {
   "cell_type": "code",
   "execution_count": null,
   "id": "498b9d12-3af2-42d9-9383-55450f5717b5",
   "metadata": {},
   "outputs": [],
   "source": [
    "(match_df['opponent_name'] == 'Trif').sum()"
   ]
  },
  {
   "cell_type": "code",
   "execution_count": null,
   "id": "aaf3a31a-6c81-4c46-84e7-a27d5c50640e",
   "metadata": {},
   "outputs": [],
   "source": [
    "cody_df = match_df[match_df['opponent_name'] == 'Cody']\n",
    "cody_df['model'].value_counts()"
   ]
  },
  {
   "cell_type": "code",
   "execution_count": null,
   "id": "f4ae6cd1-9eb3-4dad-81c1-eb9a08f69249",
   "metadata": {},
   "outputs": [],
   "source": [
    "match_df['model'].value_counts()"
   ]
  },
  {
   "cell_type": "code",
   "execution_count": null,
   "id": "92f667c1-212f-49dd-93d4-33e6edfcfa53",
   "metadata": {},
   "outputs": [],
   "source": [
    "# Figure out which replays to toss and which to keep"
   ]
  },
  {
   "cell_type": "code",
   "execution_count": null,
   "id": "94947e34-8e0e-47c7-ba20-e38e7a393424",
   "metadata": {},
   "outputs": [],
   "source": [
    "unknown_rows = by_reason['unknown player vs phillip']\n",
    "len(unknown_rows)"
   ]
  },
  {
   "cell_type": "code",
   "execution_count": null,
   "id": "556db52e-13f2-4245-9cbe-9fb2e3ba002b",
   "metadata": {},
   "outputs": [],
   "source": [
    "unknown_rows[0]['name']"
   ]
  },
  {
   "cell_type": "code",
   "execution_count": null,
   "id": "17e2cc0c-0a09-4dc3-879d-7878b22ba494",
   "metadata": {},
   "outputs": [],
   "source": [
    "for row in unknown_rows:\n",
    "    row['opponent_code'] = get_name(row)"
   ]
  },
  {
   "cell_type": "code",
   "execution_count": null,
   "id": "6b531708-7966-4fd2-bdd4-e6173aeaad5c",
   "metadata": {},
   "outputs": [],
   "source": [
    "unknown_df = pd.DataFrame(unknown_rows)\n",
    "unknown_df['rating'] = unknown_df['opponent_code'].map(code_to_elo.get)\n",
    "unknown_df['model'] = unknown_df['name'].map(get_model)"
   ]
  },
  {
   "cell_type": "code",
   "execution_count": null,
   "id": "58e08533-ae30-468f-b6df-aed5ee65d150",
   "metadata": {},
   "outputs": [],
   "source": [
    "with_rating = unknown_df[~unknown_df['rating'].isnull()]"
   ]
  },
  {
   "cell_type": "code",
   "execution_count": null,
   "id": "a39d82d5-f2fb-400d-878d-8ecd7ebb0944",
   "metadata": {},
   "outputs": [],
   "source": [
    "ratings = with_rating['rating']\n",
    "ratings.mean()"
   ]
  },
  {
   "cell_type": "code",
   "execution_count": null,
   "id": "2d39bbe5-8f34-4a35-9fd8-ae3789cd702d",
   "metadata": {},
   "outputs": [],
   "source": [
    "np.percentile(ratings.to_numpy(), [50, 75, 90, 95, 99])"
   ]
  },
  {
   "cell_type": "code",
   "execution_count": null,
   "id": "c84f66ef-a558-41ff-9412-cdfebdddc415",
   "metadata": {},
   "outputs": [],
   "source": [
    "@functools.cache\n",
    "def is_weak_model(model: str):\n",
    "    return 'imitation' in model or model.startswith('basic')\n",
    "\n",
    "unknown_df['is_weak_model'] = unknown_df['model'].map(is_weak_model)"
   ]
  },
  {
   "cell_type": "code",
   "execution_count": null,
   "id": "63c983ac-8b10-4735-8a86-01fe05bc7be4",
   "metadata": {},
   "outputs": [],
   "source": [
    "unknown_df['is_weak_model'].mean()"
   ]
  },
  {
   "cell_type": "code",
   "execution_count": null,
   "id": "092b7430-193d-4007-b942-8b8d505e9bf6",
   "metadata": {},
   "outputs": [],
   "source": [
    "phillip_df = pd.DataFrame(phillip_rows)\n",
    "phillip_df['model'] = phillip_df['name'].map(get_model)\n",
    "phillip_df['is_weak_model'] = phillip_df['model'].map(is_weak_model)"
   ]
  },
  {
   "cell_type": "code",
   "execution_count": null,
   "id": "6c7acfaa-4f2b-4e70-8ff1-c8c1dcd0f355",
   "metadata": {},
   "outputs": [],
   "source": [
    "phillip_df['is_weak_model'].mean()"
   ]
  },
  {
   "cell_type": "code",
   "execution_count": null,
   "id": "b30914f8-3e52-4315-a837-f1499f6f3d12",
   "metadata": {},
   "outputs": [],
   "source": [
    "assert (~phillip_df['is_weak_model'] & (phillip_df['reason'] == 'vs weak phillip')).sum() == 0"
   ]
  },
  {
   "cell_type": "code",
   "execution_count": null,
   "id": "99e93033-8962-4c69-b287-0a8f21782c15",
   "metadata": {},
   "outputs": [],
   "source": [
    "to_remove = collections.defaultdict(set)"
   ]
  },
  {
   "cell_type": "code",
   "execution_count": null,
   "id": "d0a10158-67c9-45a3-8629-3981ebf83e07",
   "metadata": {},
   "outputs": [],
   "source": [
    "weak = phillip_df[phillip_df['is_weak_model']].groupby('raw')\n",
    "\n",
    "for raw in weak.groups:\n",
    "    to_remove[raw].update(weak['name'].get_group(raw))"
   ]
  },
  {
   "cell_type": "code",
   "execution_count": null,
   "id": "fadcaeb4-6717-4a53-b07b-ea6b4846b777",
   "metadata": {},
   "outputs": [],
   "source": [
    "MIN_RATING = 2000  # roughly diamond-2\n",
    "\n",
    "weak_opponent = with_rating[with_rating['rating'] < MIN_RATING]\n",
    "weak_opponent = weak_opponent.groupby('raw')\n",
    "for raw in weak_opponent.groups:\n",
    "    to_remove[raw].update(weak_opponent['name'].get_group(raw))"
   ]
  },
  {
   "cell_type": "code",
   "execution_count": null,
   "id": "8759b812-050a-4b3a-b952-e8f41cdfcc80",
   "metadata": {},
   "outputs": [],
   "source": [
    "for raw, names in to_remove.items():\n",
    "    print(raw, len(names))"
   ]
  },
  {
   "cell_type": "code",
   "execution_count": null,
   "id": "c89d5686-7387-45cd-b5f8-7d095be8927c",
   "metadata": {},
   "outputs": [],
   "source": [
    "raw_root = '/linusr/vlad/SSBM/Replays/Raw/'"
   ]
  },
  {
   "cell_type": "code",
   "execution_count": null,
   "id": "bf0f317d-ac8c-4016-85bf-18682d4c5a11",
   "metadata": {},
   "outputs": [],
   "source": [
    "%%time\n",
    "\n",
    "for raw, names in to_remove.items():\n",
    "    raw_path = os.path.join(raw_root, raw)\n",
    "    assert os.path.exists(raw_path)\n",
    "    delete_from_zip(raw_path, names)"
   ]
  },
  {
   "cell_type": "code",
   "execution_count": null,
   "id": "3f3fdf1e-4f77-4368-83ac-01b56d0c8526",
   "metadata": {},
   "outputs": [],
   "source": []
  }
 ],
 "metadata": {
  "kernelspec": {
   "display_name": "Python 3 (ipykernel)",
   "language": "python",
   "name": "python3"
  },
  "language_info": {
   "codemirror_mode": {
    "name": "ipython",
    "version": 3
   },
   "file_extension": ".py",
   "mimetype": "text/x-python",
   "name": "python",
   "nbconvert_exporter": "python",
   "pygments_lexer": "ipython3",
   "version": "3.10.12"
  }
 },
 "nbformat": 4,
 "nbformat_minor": 5
}
