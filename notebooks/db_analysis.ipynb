{
 "cells": [
  {
   "cell_type": "code",
   "execution_count": null,
   "id": "23060680",
   "metadata": {},
   "outputs": [],
   "source": [
    "import os\n",
    "import numpy as np\n",
    "from slippi_db import upload_lib, preprocessing\n",
    "import peppi_py"
   ]
  },
  {
   "cell_type": "code",
   "execution_count": null,
   "id": "63b0aba9",
   "metadata": {},
   "outputs": [],
   "source": [
    "prod_raw = upload_lib.get_db('prod', 'raw')\n",
    "prod_slp = upload_lib.get_db('prod', 'slp')\n",
    "prod_slp = list(prod_slp.find())"
   ]
  },
  {
   "cell_type": "code",
   "execution_count": null,
   "id": "de32b188",
   "metadata": {},
   "outputs": [],
   "source": [
    "test_slp = upload_lib.get_db('test', 'slp')\n",
    "test_meta = upload_lib.get_db('test', 'meta')\n",
    "test_slp = list(test_slp.find())"
   ]
  },
  {
   "cell_type": "code",
   "execution_count": null,
   "id": "0a0dc433",
   "metadata": {},
   "outputs": [],
   "source": [
    "biggest = max(prod_slp, key=lambda doc: doc['original_size'])"
   ]
  },
  {
   "cell_type": "code",
   "execution_count": null,
   "id": "b8cc316c",
   "metadata": {},
   "outputs": [],
   "source": [
    "sizes = np.array([doc['original_size'] for doc in prod_slp])"
   ]
  },
  {
   "cell_type": "code",
   "execution_count": null,
   "id": "6ad21f0c",
   "metadata": {},
   "outputs": [],
   "source": [
    "np.quantile(sizes, [0, 0.25, 0.5, 0.75, 0.9, 0.95, 0.99, 1])"
   ]
  },
  {
   "cell_type": "code",
   "execution_count": null,
   "id": "8853400b",
   "metadata": {},
   "outputs": [],
   "source": [
    "corrupt = [doc for doc in docs if doc['original_size'] == 0]\n",
    "print(len(corrupt))"
   ]
  },
  {
   "cell_type": "code",
   "execution_count": null,
   "id": "f9a5a067",
   "metadata": {},
   "outputs": [],
   "source": [
    "prod_meta = upload_lib.get_db('prod', 'meta')\n",
    "meta_docs = list(prod_meta.find())"
   ]
  },
  {
   "cell_type": "code",
   "execution_count": null,
   "id": "66d617b0",
   "metadata": {},
   "outputs": [],
   "source": [
    "failed = [d for d in meta_docs if d.get('invalid', False)]\n",
    "print(len(failed))"
   ]
  },
  {
   "cell_type": "code",
   "execution_count": null,
   "id": "2fd51552",
   "metadata": {},
   "outputs": [],
   "source": [
    "non_parse = [f for f in failed if 'parse error' not in f['reason']]\n",
    "print('non parse:', len(non_parse))\n",
    "non_parse[0]"
   ]
  },
  {
   "cell_type": "code",
   "execution_count": null,
   "id": "bf679f0a",
   "metadata": {},
   "outputs": [],
   "source": []
  },
  {
   "cell_type": "code",
   "execution_count": null,
   "id": "92fb6810",
   "metadata": {},
   "outputs": [],
   "source": [
    "import collections\n",
    "reasons = collections.Counter(f['reason'] for f in failed)\n",
    "reasons = sorted(reasons.items(), key=lambda kv: tuple(reversed(kv)), reverse=True)"
   ]
  },
  {
   "cell_type": "code",
   "execution_count": null,
   "id": "b05760ce",
   "metadata": {},
   "outputs": [],
   "source": [
    "lines = [k + ', ' + str(v) + '\\n' for k, v in reasons]\n",
    "\n",
    "with open('data/reasons.txt', 'w') as f:\n",
    "    f.writelines(lines)"
   ]
  },
  {
   "cell_type": "code",
   "execution_count": null,
   "id": "3142cc6d",
   "metadata": {},
   "outputs": [],
   "source": [
    "no_winner = [d for d in meta_docs if not d.get('invalid') and d['winner'] is None]\n",
    "len(no_winner)"
   ]
  },
  {
   "cell_type": "code",
   "execution_count": null,
   "id": "7b35c043",
   "metadata": {},
   "outputs": [],
   "source": [
    "from slippi_db import test_peppi\n",
    "from importlib import reload\n",
    "reload(test_peppi)"
   ]
  },
  {
   "cell_type": "code",
   "execution_count": null,
   "id": "2f96b9d2",
   "metadata": {},
   "outputs": [],
   "source": [
    "reload(test_peppi)\n",
    "singles_metas = test_peppi.get_singles_info('prod')"
   ]
  },
  {
   "cell_type": "code",
   "execution_count": null,
   "id": "ce08dfc9",
   "metadata": {},
   "outputs": [],
   "source": [
    "len(singles_metas)"
   ]
  },
  {
   "cell_type": "code",
   "execution_count": null,
   "id": "c9722dfe",
   "metadata": {},
   "outputs": [],
   "source": [
    "total_frames = sum(124 + m['lastFrame'] for m in singles_metas)\n",
    "total_frames / (60 * 60 * 60)"
   ]
  },
  {
   "cell_type": "code",
   "execution_count": null,
   "id": "d3f7fc85",
   "metadata": {},
   "outputs": [],
   "source": [
    "slp_to_raw = {d['key']: d['raw_key'] for d in test_slp}"
   ]
  },
  {
   "cell_type": "code",
   "execution_count": null,
   "id": "ae814a29",
   "metadata": {},
   "outputs": [],
   "source": [
    "keys = [d['key'] for d in non_parse]\n",
    "raw_keys = set([slp_to_raw[k] for k in keys])\n",
    "print(raw_keys)"
   ]
  },
  {
   "cell_type": "code",
   "execution_count": null,
   "id": "386ab3ca",
   "metadata": {},
   "outputs": [],
   "source": [
    "dir = 'data/test/start'\n",
    "for key in keys[:1]:\n",
    "    upload_lib.download_slp_locally('test', key, 'data/test/start/')"
   ]
  },
  {
   "cell_type": "code",
   "execution_count": null,
   "id": "21da8bf9",
   "metadata": {},
   "outputs": [],
   "source": [
    "games = []\n",
    "path = 'data/test/start/'\n",
    "for name in os.listdir(path):\n",
    "    games.append(peppi_py.game(os.path.join(path, name)))"
   ]
  },
  {
   "cell_type": "code",
   "execution_count": null,
   "id": "4b1a8dcb",
   "metadata": {},
   "outputs": [],
   "source": [
    "def analyze_game(game):\n",
    "    start_ports = [p['port'] for p in game['start']['players']]\n",
    "    frame_ports = sorted(game['frames'][0]['ports'])\n",
    "    print(start_ports, frame_ports)"
   ]
  },
  {
   "cell_type": "code",
   "execution_count": null,
   "id": "869850df",
   "metadata": {},
   "outputs": [],
   "source": [
    "path = 'data/test/18_29_53 Kirby + Falco.slp'\n",
    "game = peppi_py.game(path)"
   ]
  },
  {
   "cell_type": "code",
   "execution_count": null,
   "id": "b53b25b8",
   "metadata": {},
   "outputs": [],
   "source": [
    "last_frame = game['frames'][-1]\n",
    "stocks = [player['leader']['post']['stocks'] for player in last_frame['ports'].values()]\n",
    "stocks"
   ]
  },
  {
   "cell_type": "code",
   "execution_count": null,
   "id": "7dd1ddf8",
   "metadata": {},
   "outputs": [],
   "source": [
    "winner = None\n",
    "last_frame = game['frames'][-1]\n",
    "stock_counts = {}\n",
    "for index, player in last_frame['ports'].items():\n",
    "    stock_counts[int(index)] = player['leader']['post']['stocks'].as_py()\n",
    "losers = [p for p, s in stock_counts.items() if s == 0]\n",
    "if losers:\n",
    "    winners = [p for p, s in stock_counts.items() if s > 0]\n",
    "    if len(winners) == 1:\n",
    "        winner = winners[0]\n",
    "print(winner)"
   ]
  },
  {
   "cell_type": "code",
   "execution_count": null,
   "id": "42605de1",
   "metadata": {},
   "outputs": [],
   "source": [
    "x = stock_counts[0]"
   ]
  },
  {
   "cell_type": "code",
   "execution_count": null,
   "id": "5f199489",
   "metadata": {},
   "outputs": [],
   "source": [
    "x.as_py()"
   ]
  },
  {
   "cell_type": "code",
   "execution_count": null,
   "id": "b2a43699",
   "metadata": {},
   "outputs": [],
   "source": [
    "%pdb"
   ]
  },
  {
   "cell_type": "code",
   "execution_count": null,
   "id": "fa33cd05",
   "metadata": {},
   "outputs": [],
   "source": [
    "local_games = []\n",
    "path = os.path.expanduser('~/Slippi')\n",
    "for name in os.listdir(path):\n",
    "    try:\n",
    "        game = peppi_py.game(os.path.join(path, name))\n",
    "    except OSError:\n",
    "        continue\n",
    "    local_games.append(game)\n",
    "\n",
    "    if len(local_games) == 20:\n",
    "        break"
   ]
  },
  {
   "cell_type": "code",
   "execution_count": null,
   "id": "a42d105a",
   "metadata": {},
   "outputs": [],
   "source": [
    "len(local_games)"
   ]
  },
  {
   "cell_type": "code",
   "execution_count": null,
   "id": "d6cbcf7c",
   "metadata": {},
   "outputs": [],
   "source": [
    "for g in local_games:\n",
    "    analyze_game(g)"
   ]
  },
  {
   "cell_type": "code",
   "execution_count": null,
   "id": "7e1eb89a",
   "metadata": {},
   "outputs": [],
   "source": [
    "path = 'data/test/start/18_29_53 Kirby + Falco.slp'\n",
    "preprocessing.assert_same_parse(path)"
   ]
  },
  {
   "cell_type": "code",
   "execution_count": null,
   "id": "8dc57566",
   "metadata": {},
   "outputs": [],
   "source": [
    "%pdb"
   ]
  },
  {
   "cell_type": "code",
   "execution_count": null,
   "id": "a77cf260",
   "metadata": {},
   "outputs": [],
   "source": []
  }
 ],
 "metadata": {
  "kernelspec": {
   "display_name": "Python 3 (ipykernel)",
   "language": "python",
   "name": "python3"
  },
  "language_info": {
   "codemirror_mode": {
    "name": "ipython",
    "version": 3
   },
   "file_extension": ".py",
   "mimetype": "text/x-python",
   "name": "python",
   "nbconvert_exporter": "python",
   "pygments_lexer": "ipython3",
   "version": "3.9.12"
  }
 },
 "nbformat": 4,
 "nbformat_minor": 5
}
