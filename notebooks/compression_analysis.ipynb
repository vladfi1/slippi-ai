{
 "cells": [
  {
   "cell_type": "code",
   "execution_count": 48,
   "id": "ea4d1f76",
   "metadata": {},
   "outputs": [],
   "source": [
    "import os\n",
    "import time\n",
    "import pandas as pd\n",
    "from slippi_db import make_compression_datasets\n",
    "from slippi_db import upload_lib"
   ]
  },
  {
   "cell_type": "code",
   "execution_count": 15,
   "id": "f4d7d6ae",
   "metadata": {},
   "outputs": [],
   "source": [
    "env = 'compression_test'"
   ]
  },
  {
   "cell_type": "code",
   "execution_count": 16,
   "id": "4dce85a5",
   "metadata": {},
   "outputs": [],
   "source": [
    "slp_db = upload_lib.get_db(env, upload_lib.SLP)\n",
    "slp_infos = list(slp_db.find({}))\n",
    "slp_compressed_size = sum(info['stored_size'] for info in slp_infos)\n",
    "slp_size = sum(info['original_size'] for info in slp_infos)"
   ]
  },
  {
   "cell_type": "code",
   "execution_count": 17,
   "id": "baa5516c",
   "metadata": {},
   "outputs": [],
   "source": [
    "def get_dataset_size(dataset: str):\n",
    "    parsed_db = upload_lib.get_db(env, dataset)\n",
    "    infos = parsed_db.find({})\n",
    "    sizes = [info['size'] for info in infos if not info.get('failed', False)]\n",
    "    return sum(sizes)"
   ]
  },
  {
   "cell_type": "code",
   "execution_count": 18,
   "id": "7fd5650f",
   "metadata": {},
   "outputs": [
    {
     "name": "stdout",
     "output_type": "stream",
     "text": [
      "zlib\n"
     ]
    }
   ],
   "source": [
    "compression = slp_infos[0]['compression']\n",
    "for info in slp_infos:\n",
    "    assert info['compression'] == compression\n",
    "print(compression)"
   ]
  },
  {
   "cell_type": "code",
   "execution_count": 19,
   "id": "e98ff455",
   "metadata": {},
   "outputs": [],
   "source": [
    "sizes = {name: get_dataset_size(name) for name in make_compression_datasets.configurations}\n",
    "sizes[f'slp_{compression}_compressed'] = slp_compressed_size\n",
    "sizes['slp'] = slp_size"
   ]
  },
  {
   "cell_type": "code",
   "execution_count": 20,
   "id": "64088525",
   "metadata": {},
   "outputs": [],
   "source": [
    "names, sizes_ = zip(*sizes.items())\n",
    "df = pd.DataFrame({'name': names, 'size': sizes_})\n",
    "df['relative_size'] = df['size'] / sizes['uncompressed']"
   ]
  },
  {
   "cell_type": "code",
   "execution_count": 21,
   "id": "db208432",
   "metadata": {},
   "outputs": [
    {
     "data": {
      "text/html": [
       "<div>\n",
       "<style scoped>\n",
       "    .dataframe tbody tr th:only-of-type {\n",
       "        vertical-align: middle;\n",
       "    }\n",
       "\n",
       "    .dataframe tbody tr th {\n",
       "        vertical-align: top;\n",
       "    }\n",
       "\n",
       "    .dataframe thead th {\n",
       "        text-align: right;\n",
       "    }\n",
       "</style>\n",
       "<table border=\"1\" class=\"dataframe\">\n",
       "  <thead>\n",
       "    <tr style=\"text-align: right;\">\n",
       "      <th></th>\n",
       "      <th>name</th>\n",
       "      <th>relative_size</th>\n",
       "    </tr>\n",
       "  </thead>\n",
       "  <tbody>\n",
       "    <tr>\n",
       "      <th>6</th>\n",
       "      <td>zlib</td>\n",
       "      <td>0.537411</td>\n",
       "    </tr>\n",
       "    <tr>\n",
       "      <th>3</th>\n",
       "      <td>brotli</td>\n",
       "      <td>0.700552</td>\n",
       "    </tr>\n",
       "    <tr>\n",
       "      <th>5</th>\n",
       "      <td>zstd</td>\n",
       "      <td>0.744740</td>\n",
       "    </tr>\n",
       "    <tr>\n",
       "      <th>1</th>\n",
       "      <td>gzip</td>\n",
       "      <td>0.749642</td>\n",
       "    </tr>\n",
       "    <tr>\n",
       "      <th>4</th>\n",
       "      <td>lz4</td>\n",
       "      <td>0.750600</td>\n",
       "    </tr>\n",
       "    <tr>\n",
       "      <th>2</th>\n",
       "      <td>snappy</td>\n",
       "      <td>0.825933</td>\n",
       "    </tr>\n",
       "    <tr>\n",
       "      <th>0</th>\n",
       "      <td>uncompressed</td>\n",
       "      <td>1.000000</td>\n",
       "    </tr>\n",
       "    <tr>\n",
       "      <th>7</th>\n",
       "      <td>slp_zlib_compressed</td>\n",
       "      <td>3.017508</td>\n",
       "    </tr>\n",
       "    <tr>\n",
       "      <th>8</th>\n",
       "      <td>slp</td>\n",
       "      <td>13.652784</td>\n",
       "    </tr>\n",
       "  </tbody>\n",
       "</table>\n",
       "</div>"
      ],
      "text/plain": [
       "                  name  relative_size\n",
       "6                 zlib       0.537411\n",
       "3               brotli       0.700552\n",
       "5                 zstd       0.744740\n",
       "1                 gzip       0.749642\n",
       "4                  lz4       0.750600\n",
       "2               snappy       0.825933\n",
       "0         uncompressed       1.000000\n",
       "7  slp_zlib_compressed       3.017508\n",
       "8                  slp      13.652784"
      ]
     },
     "execution_count": 21,
     "metadata": {},
     "output_type": "execute_result"
    }
   ],
   "source": [
    "df.sort_values(by='relative_size', inplace=True)\n",
    "df[['name', 'relative_size']]"
   ]
  },
  {
   "cell_type": "code",
   "execution_count": 4,
   "id": "5bde9bed",
   "metadata": {},
   "outputs": [],
   "source": [
    "# Download test files\n",
    "slp_dir = f'data/{env}'"
   ]
  },
  {
   "cell_type": "code",
   "execution_count": null,
   "id": "61229068",
   "metadata": {},
   "outputs": [],
   "source": [
    "os.makedirs(slp_dir, exist_ok=True)\n",
    "for info in slp_infos:\n",
    "    upload_lib.download_slp_locally(env, info['key'], slp_dir)"
   ]
  },
  {
   "cell_type": "code",
   "execution_count": 5,
   "id": "e2a85bba",
   "metadata": {},
   "outputs": [],
   "source": [
    "import pickle, zlib, os\n",
    "from slippi_db import parse_libmelee, parse_peppi\n",
    "from slippi_ai.types import InvalidGameError, array_to_nest"
   ]
  },
  {
   "cell_type": "code",
   "execution_count": 6,
   "id": "9561a391",
   "metadata": {},
   "outputs": [],
   "source": [
    "paths = [os.path.join(slp_dir, f) for f in os.listdir(slp_dir)]"
   ]
  },
  {
   "cell_type": "code",
   "execution_count": 10,
   "id": "937a8747",
   "metadata": {},
   "outputs": [
    {
     "name": "stdout",
     "output_type": "stream",
     "text": [
      "data/compression_test/Doc vs Samus [DL] Game_20190820T123018.slp\n",
      "data/compression_test/Game_20210124T214030.slp\n",
      "data/compression_test/2020-07_Game_20200720T165745.slp\n",
      "data/compression_test/20200205 - HNC 16 - PM 1046 - HELP Peach (Blue) vs SUWA Fox (Default) - Fountain of Dreams.slp\n",
      "data/compression_test/2021-07_Game_20210709T184131.slp\n",
      "data/compression_test/15_48_46 Fox + Mario (YS).slp\n",
      "data/compression_test/19_37_31 Fox + Falco (BF).slp\n",
      "data/compression_test/17_42_36 [C2] Marth + [GRRL] Falco + [JAZZ] Fox + [POP] Fox (YS).slp\n",
      "data/compression_test/18_40_08 Fox + Falco (FoD).slp\n",
      "data/compression_test/Game_20190706T211019.slp\n",
      "CPU times: user 10.6 s, sys: 99 ms, total: 10.7 s\n",
      "Wall time: 10.7 s\n"
     ]
    },
    {
     "data": {
      "text/plain": [
       "1"
      ]
     },
     "execution_count": 10,
     "metadata": {},
     "output_type": "execute_result"
    }
   ],
   "source": [
    "%%time\n",
    "\n",
    "pa_arrays = []\n",
    "errors = []\n",
    "\n",
    "for path in paths:\n",
    "    print(path)\n",
    "    try:\n",
    "#         pa_arrays.append(parse_peppi.get_slp(path))\n",
    "        pa_arrays.append(parse_libmelee.get_slp(path))\n",
    "    except InvalidGameError as e:\n",
    "        errors.append((path, e))\n",
    "len(errors)"
   ]
  },
  {
   "cell_type": "code",
   "execution_count": 44,
   "id": "d36e7efd",
   "metadata": {},
   "outputs": [],
   "source": [
    "def nested_size(array, level) -> dict:\n",
    "    nest = array_to_nest(array)\n",
    "    pickled = pickle.dumps(nest)\n",
    "    compressed = zlib.compress(pickled, level=level)\n",
    "    return len(compressed)"
   ]
  },
  {
   "cell_type": "code",
   "execution_count": 49,
   "id": "ab9541bd",
   "metadata": {},
   "outputs": [
    {
     "name": "stdout",
     "output_type": "stream",
     "text": [
      "CPU times: user 990 ms, sys: 18.9 ms, total: 1.01 s\n",
      "Wall time: 1.01 s\n"
     ]
    }
   ],
   "source": [
    "%%time\n",
    "\n",
    "totals = {}\n",
    "times = {}\n",
    "for level in range(zlib.Z_BEST_COMPRESSION + 1):\n",
    "    start = time.perf_counter()\n",
    "    totals[level] = sum(nested_size(a, level) for a in pa_arrays)\n",
    "    times[level] = time.perf_counter() - start"
   ]
  },
  {
   "cell_type": "code",
   "execution_count": 50,
   "id": "07d01388",
   "metadata": {},
   "outputs": [
    {
     "data": {
      "text/plain": [
       "{0: 0.02037558400115813,\n",
       " 1: 0.05806408399803331,\n",
       " 2: 0.04424483300317661,\n",
       " 3: 0.044978833000641316,\n",
       " 4: 0.06588908299818286,\n",
       " 5: 0.07144233400322264,\n",
       " 6: 0.08604466700126068,\n",
       " 7: 0.09655908399872715,\n",
       " 8: 0.17153379199953633,\n",
       " 9: 0.3478453329989861}"
      ]
     },
     "execution_count": 50,
     "metadata": {},
     "output_type": "execute_result"
    }
   ],
   "source": [
    "times"
   ]
  },
  {
   "cell_type": "code",
   "execution_count": 47,
   "id": "0d7b5c04",
   "metadata": {},
   "outputs": [
    {
     "data": {
      "text/plain": [
       "{0: 8278850,\n",
       " 1: 1085447,\n",
       " 2: 1070725,\n",
       " 3: 1048364,\n",
       " 4: 1004004,\n",
       " 5: 987325,\n",
       " 6: 969468,\n",
       " 7: 965385,\n",
       " 8: 956067,\n",
       " 9: 952457}"
      ]
     },
     "execution_count": 47,
     "metadata": {},
     "output_type": "execute_result"
    }
   ],
   "source": [
    "totals"
   ]
  },
  {
   "cell_type": "code",
   "execution_count": 12,
   "id": "f5449389",
   "metadata": {},
   "outputs": [],
   "source": [
    "total_nested_size = sum(map(nested_size, pa_arrays))"
   ]
  },
  {
   "cell_type": "code",
   "execution_count": 39,
   "id": "0c68c707",
   "metadata": {},
   "outputs": [],
   "source": [
    "sizes['pickle_zlib'] = total_nested_size"
   ]
  },
  {
   "cell_type": "code",
   "execution_count": 40,
   "id": "29bbb4ff",
   "metadata": {},
   "outputs": [
    {
     "name": "stdout",
     "output_type": "stream",
     "text": [
      "pickle_zlib 27.040\n",
      "zlib 25.405\n",
      "brotli 19.489\n",
      "zstd 18.332\n",
      "gzip 18.212\n",
      "lz4 18.189\n",
      "snappy 16.530\n",
      "uncompressed 13.653\n",
      "slp_zlib_compressed 4.525\n",
      "slp 1.000\n"
     ]
    }
   ],
   "source": [
    "for name in sorted(sizes, key=lambda n: sizes[n]):\n",
    "    print(name, '%.3f' % (sizes['slp'] / sizes[name]))"
   ]
  }
 ],
 "metadata": {
  "kernelspec": {
   "display_name": "Python 3 (ipykernel)",
   "language": "python",
   "name": "python3"
  },
  "language_info": {
   "codemirror_mode": {
    "name": "ipython",
    "version": 3
   },
   "file_extension": ".py",
   "mimetype": "text/x-python",
   "name": "python",
   "nbconvert_exporter": "python",
   "pygments_lexer": "ipython3",
   "version": "3.9.15"
  }
 },
 "nbformat": 4,
 "nbformat_minor": 5
}
