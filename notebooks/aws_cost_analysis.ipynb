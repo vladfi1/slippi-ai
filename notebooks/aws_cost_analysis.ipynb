{
 "cells": [
  {
   "cell_type": "code",
   "execution_count": null,
   "id": "e55f7078",
   "metadata": {},
   "outputs": [],
   "source": [
    "# https://instances.vantage.sh/?pricing_unit=vcpu\n",
    "# these are on-demand prices\n",
    "INSTANCES = dict(\n",
    "    t3_nano = 0.0026,\n",
    "    t3_micro = 0.0052,\n",
    "    t3_small = 0.0104,\n",
    ")\n",
    "\n",
    "CPUS_PER_INSTANCE = 2\n",
    "EBS_PER_INSTANCE = 5\n",
    "EBS_PER_MONTH = 0.10\n",
    "EBS_PER_HOUR = EBS_PER_MONTH / (30 * 24) * EBS_PER_INSTANCE\n",
    "\n",
    "NUM_FILES = 200_000\n",
    "\n",
    "# tested on actual ec2\n",
    "PARSERS = dict(\n",
    "    peppi=1.1,\n",
    "    libmelee=6.2,\n",
    ")\n",
    "\n",
    "def price(parser: str, instance: str):\n",
    "    hours = NUM_FILES * PARSERS[parser] / (60 * 60)\n",
    "    cost_per_hour = EBS_PER_HOUR / CPUS_PER_INSTANCE + INSTANCES[instance]\n",
    "    return hours * cost_per_hour"
   ]
  },
  {
   "cell_type": "code",
   "execution_count": null,
   "id": "2ee6f1f5",
   "metadata": {},
   "outputs": [],
   "source": [
    "for parser in PARSERS:\n",
    "    for instance in INSTANCES:\n",
    "        print(parser, instance, price(parser, instance))"
   ]
  },
  {
   "cell_type": "code",
   "execution_count": null,
   "id": "12122852",
   "metadata": {},
   "outputs": [],
   "source": []
  }
 ],
 "metadata": {
  "kernelspec": {
   "display_name": "Python 3 (ipykernel)",
   "language": "python",
   "name": "python3"
  },
  "language_info": {
   "codemirror_mode": {
    "name": "ipython",
    "version": 3
   },
   "file_extension": ".py",
   "mimetype": "text/x-python",
   "name": "python",
   "nbconvert_exporter": "python",
   "pygments_lexer": "ipython3",
   "version": "3.9.9"
  }
 },
 "nbformat": 4,
 "nbformat_minor": 5
}
