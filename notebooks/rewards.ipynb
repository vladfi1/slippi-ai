{
 "cells": [
  {
   "cell_type": "code",
   "execution_count": null,
   "id": "f68e520c",
   "metadata": {},
   "outputs": [],
   "source": [
    "from slippi_ai import data, embed"
   ]
  },
  {
   "cell_type": "code",
   "execution_count": null,
   "id": "fe202f9c",
   "metadata": {},
   "outputs": [],
   "source": [
    "train_paths, test_paths = data.train_test_split('/home/victor/slippi/AllCompressed/')"
   ]
  },
  {
   "cell_type": "code",
   "execution_count": null,
   "id": "1982349f",
   "metadata": {},
   "outputs": [],
   "source": [
    "train_data = data.make_source(\n",
    "    filenames=train_paths,\n",
    "    allowed_characters='all',\n",
    "    allowed_opponents='all',\n",
    "    in_parallel=False,\n",
    "    max_action_repeat=0,\n",
    "    embed_controller=embed.embed_controller_discrete,\n",
    "    batch_size=1,\n",
    "    unroll_length=200,\n",
    ")"
   ]
  },
  {
   "cell_type": "code",
   "execution_count": null,
   "id": "d3e2dce7",
   "metadata": {},
   "outputs": [],
   "source": [
    "batches = [next(train_data) for _ in range(20)]"
   ]
  },
  {
   "cell_type": "code",
   "execution_count": null,
   "id": "51b0f75e",
   "metadata": {},
   "outputs": [],
   "source": [
    "batches[13][0].game.rewards"
   ]
  },
  {
   "cell_type": "code",
   "execution_count": null,
   "id": "77b9bef0",
   "metadata": {},
   "outputs": [],
   "source": []
  }
 ],
 "metadata": {
  "kernelspec": {
   "display_name": "Python 3 (ipykernel)",
   "language": "python",
   "name": "python3"
  },
  "language_info": {
   "codemirror_mode": {
    "name": "ipython",
    "version": 3
   },
   "file_extension": ".py",
   "mimetype": "text/x-python",
   "name": "python",
   "nbconvert_exporter": "python",
   "pygments_lexer": "ipython3",
   "version": "3.9.5"
  }
 },
 "nbformat": 4,
 "nbformat_minor": 5
}
