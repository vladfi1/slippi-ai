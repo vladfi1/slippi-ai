{
 "cells": [
  {
   "cell_type": "code",
   "execution_count": null,
   "id": "75fa9ba4",
   "metadata": {},
   "outputs": [],
   "source": [
    "import tensorflow as tf"
   ]
  },
  {
   "cell_type": "code",
   "execution_count": null,
   "id": "3471d7df",
   "metadata": {},
   "outputs": [],
   "source": [
    "struct = {'x': None, 'y': 1}"
   ]
  },
  {
   "cell_type": "code",
   "execution_count": null,
   "id": "f6ca8f4b",
   "metadata": {},
   "outputs": [],
   "source": [
    "def f(struct: dict):\n",
    "    return tf.identity(struct['y'])\n",
    "f_jit = tf.function(f)"
   ]
  },
  {
   "cell_type": "code",
   "execution_count": null,
   "id": "bdb0d9bb",
   "metadata": {},
   "outputs": [],
   "source": [
    "f(struct)"
   ]
  },
  {
   "cell_type": "code",
   "execution_count": null,
   "id": "a03e6bcf",
   "metadata": {},
   "outputs": [],
   "source": [
    "f_jit(struct)"
   ]
  },
  {
   "cell_type": "code",
   "execution_count": null,
   "id": "5fbce7d6",
   "metadata": {},
   "outputs": [],
   "source": [
    "from dataclasses import dataclass\n",
    "import typing as tp"
   ]
  },
  {
   "cell_type": "code",
   "execution_count": null,
   "id": "fe9cfaf4",
   "metadata": {},
   "outputs": [],
   "source": [
    "@dataclass\n",
    "class DC:\n",
    "    x: int\n",
    "\n",
    "class NT(tp.NamedTuple):\n",
    "    x: int"
   ]
  },
  {
   "cell_type": "code",
   "execution_count": null,
   "id": "5094c067",
   "metadata": {},
   "outputs": [],
   "source": [
    "def g(struct):\n",
    "    return tf.identity(struct.x)\n",
    "\n",
    "g_jit = tf.function(g)"
   ]
  },
  {
   "cell_type": "code",
   "execution_count": null,
   "id": "371f28cb",
   "metadata": {},
   "outputs": [],
   "source": [
    "g_jit(NT(x=1))"
   ]
  },
  {
   "cell_type": "code",
   "execution_count": null,
   "id": "c4a5586b",
   "metadata": {},
   "outputs": [],
   "source": [
    "g_jit(DC(x=1))"
   ]
  },
  {
   "cell_type": "code",
   "execution_count": null,
   "id": "512a6e20",
   "metadata": {},
   "outputs": [],
   "source": []
  }
 ],
 "metadata": {
  "kernelspec": {
   "display_name": "Python 3 (ipykernel)",
   "language": "python",
   "name": "python3"
  },
  "language_info": {
   "codemirror_mode": {
    "name": "ipython",
    "version": 3
   },
   "file_extension": ".py",
   "mimetype": "text/x-python",
   "name": "python",
   "nbconvert_exporter": "python",
   "pygments_lexer": "ipython3",
   "version": "3.9.12"
  }
 },
 "nbformat": 4,
 "nbformat_minor": 5
}
