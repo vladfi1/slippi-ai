{
 "cells": [
  {
   "cell_type": "code",
   "execution_count": null,
   "id": "c1f96fd5",
   "metadata": {},
   "outputs": [],
   "source": [
    "from slippi_db import upload_lib"
   ]
  },
  {
   "cell_type": "code",
   "execution_count": null,
   "id": "49ebb2cc",
   "metadata": {},
   "outputs": [],
   "source": [
    "prod_slp = upload_lib.get_db('prod', 'slp')\n",
    "prod_slp = list(prod_slp.find())"
   ]
  },
  {
   "cell_type": "code",
   "execution_count": null,
   "id": "06815d24",
   "metadata": {},
   "outputs": [],
   "source": [
    "prod_parsed_db = upload_lib.get_db('prod', upload_lib.PQ)\n",
    "prod_pq = list(prod_parsed_db.find())"
   ]
  },
  {
   "cell_type": "code",
   "execution_count": null,
   "id": "616a7bd1",
   "metadata": {},
   "outputs": [],
   "source": [
    "biggest = sorted(prod_slp, key=lambda doc: doc['original_size'])[-10:]"
   ]
  },
  {
   "cell_type": "code",
   "execution_count": null,
   "id": "da330eaf",
   "metadata": {},
   "outputs": [],
   "source": [
    "prod_meta = list(upload_lib.get_db('prod', 'meta').find())"
   ]
  },
  {
   "cell_type": "code",
   "execution_count": null,
   "id": "c3b752fb",
   "metadata": {},
   "outputs": [],
   "source": [
    "key_to_meta = {meta['key']: meta for meta in prod_meta}"
   ]
  },
  {
   "cell_type": "code",
   "execution_count": null,
   "id": "abfa2de5",
   "metadata": {},
   "outputs": [],
   "source": [
    "for doc in biggest:\n",
    "    print(key_to_meta[doc['key']])"
   ]
  },
  {
   "cell_type": "code",
   "execution_count": null,
   "id": "2623d860",
   "metadata": {},
   "outputs": [],
   "source": [
    "import pandas as pd"
   ]
  },
  {
   "cell_type": "code",
   "execution_count": null,
   "id": "bf6b2e6d",
   "metadata": {},
   "outputs": [],
   "source": [
    "metas = list(upload_lib.get_db('prod', upload_lib.META).find())"
   ]
  },
  {
   "cell_type": "code",
   "execution_count": null,
   "id": "4902706c",
   "metadata": {},
   "outputs": [],
   "source": [
    "key_to_meta = {meta['key']: meta for meta in metas}"
   ]
  },
  {
   "cell_type": "code",
   "execution_count": null,
   "id": "739807ad",
   "metadata": {},
   "outputs": [],
   "source": [
    "meta_df = pd.read_parquet('data/prod.pq')\n",
    "meta_df = meta_df.set_index('key')"
   ]
  },
  {
   "cell_type": "code",
   "execution_count": null,
   "id": "7d95114a",
   "metadata": {},
   "outputs": [],
   "source": [
    "parsed_keys = set(doc['key'] for doc in prod_pq if not doc['failed'])"
   ]
  },
  {
   "cell_type": "code",
   "execution_count": null,
   "id": "24d7aa65",
   "metadata": {},
   "outputs": [],
   "source": [
    "bogus = [key for key in meta_df['key'] if key not in parsed_keys]    "
   ]
  },
  {
   "cell_type": "code",
   "execution_count": null,
   "id": "48c2c8f0",
   "metadata": {},
   "outputs": [],
   "source": [
    "len(bogus)"
   ]
  },
  {
   "cell_type": "code",
   "execution_count": null,
   "id": "37c8980d",
   "metadata": {},
   "outputs": [],
   "source": [
    "key_to_parse = {doc['key']: doc for doc in prod_pq}"
   ]
  },
  {
   "cell_type": "code",
   "execution_count": null,
   "id": "0e41d6f4",
   "metadata": {},
   "outputs": [],
   "source": [
    "key_to_parse[bogus[0]]"
   ]
  },
  {
   "cell_type": "code",
   "execution_count": null,
   "id": "424172be",
   "metadata": {},
   "outputs": [],
   "source": [
    "reasons = set(key_to_parse[key]['reason'] for key in bogus)"
   ]
  },
  {
   "cell_type": "code",
   "execution_count": null,
   "id": "55c42e32",
   "metadata": {},
   "outputs": [],
   "source": [
    "import collections\n",
    "reason_to_key = collections.defaultdict(list)\n",
    "for key in bogus:\n",
    "    reason_to_key[key_to_parse[key]['reason']].append(key)"
   ]
  },
  {
   "cell_type": "code",
   "execution_count": null,
   "id": "a4f8eca8",
   "metadata": {},
   "outputs": [],
   "source": [
    "for reason, keys in reason_to_key.items():\n",
    "    print(f'{reason}: {len(keys)}')"
   ]
  },
  {
   "cell_type": "code",
   "execution_count": null,
   "id": "93c30c13",
   "metadata": {},
   "outputs": [],
   "source": [
    "event_type_61_keys = reason_to_key[\"<class 'ValueError'>: 61 is not a valid EventType\"]"
   ]
  },
  {
   "cell_type": "code",
   "execution_count": null,
   "id": "9665842e",
   "metadata": {},
   "outputs": [],
   "source": [
    "prod_raw = list(upload_lib.get_db('prod', upload_lib.RAW).find())"
   ]
  },
  {
   "cell_type": "code",
   "execution_count": null,
   "id": "4bc7274a",
   "metadata": {},
   "outputs": [],
   "source": [
    "key_to_raw = {raw['key']: raw for raw in prod_raw}\n",
    "key_to_slp = {slp['key']: slp for slp in prod_slp}"
   ]
  },
  {
   "cell_type": "code",
   "execution_count": null,
   "id": "e1fa91d0",
   "metadata": {},
   "outputs": [],
   "source": [
    "key = event_type_61_keys[0]"
   ]
  },
  {
   "cell_type": "code",
   "execution_count": null,
   "id": "d04a1e5f",
   "metadata": {},
   "outputs": [],
   "source": [
    "raw_files = set(key_to_raw[key_to_slp[key]['raw_key']]['filename'] for key in event_type_61_keys)"
   ]
  },
  {
   "cell_type": "code",
   "execution_count": null,
   "id": "b2673ba4",
   "metadata": {},
   "outputs": [],
   "source": [
    "raw_files"
   ]
  },
  {
   "cell_type": "code",
   "execution_count": null,
   "id": "8ad4d280",
   "metadata": {},
   "outputs": [],
   "source": [
    "parsed_without_meta = []\n",
    "\n",
    "for key, parse in key_to_parse.items():\n",
    "    if parse['failed']:\n",
    "        continue\n",
    "    \n",
    "    meta = key_to_meta.get(key)\n",
    "    if not meta:\n",
    "        parsed_without_meta.append(key)\n",
    "    \n",
    "    invalid = meta.get('invalid') or meta.get('failed')\n",
    "    if invalid:\n",
    "        parsed_without_meta.append(key)\n",
    "\n",
    "len(parsed_without_meta)"
   ]
  },
  {
   "cell_type": "code",
   "execution_count": null,
   "id": "896c2397",
   "metadata": {},
   "outputs": [],
   "source": [
    "deletions = [pymongo.DeleteOne({'key': key}) for key in parsed_without_meta]\n",
    "prod_parsed_db.bulk_write(deletions)"
   ]
  },
  {
   "cell_type": "code",
   "execution_count": null,
   "id": "d06dad14",
   "metadata": {},
   "outputs": [],
   "source": [
    "valid_meta_keys = [\n",
    "    key for key, meta in key_to_meta.items()\n",
    "    if not (meta.get('invalid') or meta.get('failed'))\n",
    "]"
   ]
  },
  {
   "cell_type": "code",
   "execution_count": null,
   "id": "7e042436",
   "metadata": {},
   "outputs": [],
   "source": [
    "import pymongo"
   ]
  },
  {
   "cell_type": "code",
   "execution_count": null,
   "id": "b416d5d8",
   "metadata": {},
   "outputs": [],
   "source": [
    "\n",
    "pymongo.DeleteMany"
   ]
  },
  {
   "cell_type": "code",
   "execution_count": null,
   "id": "8c3f8d2a",
   "metadata": {},
   "outputs": [],
   "source": []
  }
 ],
 "metadata": {
  "kernelspec": {
   "display_name": "Python 3 (ipykernel)",
   "language": "python",
   "name": "python3"
  },
  "language_info": {
   "codemirror_mode": {
    "name": "ipython",
    "version": 3
   },
   "file_extension": ".py",
   "mimetype": "text/x-python",
   "name": "python",
   "nbconvert_exporter": "python",
   "pygments_lexer": "ipython3",
   "version": "3.9.12"
  }
 },
 "nbformat": 4,
 "nbformat_minor": 5
}
