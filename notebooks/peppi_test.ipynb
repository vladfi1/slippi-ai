{
 "cells": [
  {
   "cell_type": "code",
   "execution_count": null,
   "id": "bc0ffeec",
   "metadata": {},
   "outputs": [],
   "source": [
    "import collections\n",
    "import pandas as pd\n",
    "import peppi_py\n",
    "import melee\n",
    "\n",
    "from slippi_db import upload_lib, test_peppi, preprocessing\n",
    "from slippi_db.test_peppi_ray import TEST_KEY"
   ]
  },
  {
   "cell_type": "code",
   "execution_count": null,
   "id": "ca3bddc7",
   "metadata": {},
   "outputs": [],
   "source": [
    "ENV = 'prod'"
   ]
  },
  {
   "cell_type": "code",
   "execution_count": null,
   "id": "c1574a1b",
   "metadata": {},
   "outputs": [],
   "source": [
    "prod_test_db = upload_lib.get_db(ENV, TEST_KEY)"
   ]
  },
  {
   "cell_type": "code",
   "execution_count": null,
   "id": "fc31f0b0",
   "metadata": {},
   "outputs": [],
   "source": [
    "infos = list(prod_test_db.find({}))"
   ]
  },
  {
   "cell_type": "code",
   "execution_count": null,
   "id": "11754aa3",
   "metadata": {},
   "outputs": [],
   "source": [
    "df = pd.DataFrame(infos)"
   ]
  },
  {
   "cell_type": "code",
   "execution_count": null,
   "id": "c9a89da5",
   "metadata": {},
   "outputs": [],
   "source": [
    "by_message = collections.defaultdict(list)\n",
    "for info in infos:\n",
    "    if not info['passed']:\n",
    "        by_message[info['message']].append(info)"
   ]
  },
  {
   "cell_type": "code",
   "execution_count": null,
   "id": "e1f72601",
   "metadata": {},
   "outputs": [],
   "source": [
    "%mkdir -p peppi_test"
   ]
  },
  {
   "cell_type": "code",
   "execution_count": null,
   "id": "c9efa311",
   "metadata": {},
   "outputs": [],
   "source": [
    "local_files = {}\n",
    "for message in by_message:\n",
    "    info = by_message[message][0]\n",
    "    path = upload_lib.download_slp_locally(ENV, info['key'], dir='peppi_test')\n",
    "    local_files[message] = path"
   ]
  },
  {
   "cell_type": "code",
   "execution_count": null,
   "id": "35825072",
   "metadata": {},
   "outputs": [],
   "source": [
    "print(local_files.keys())"
   ]
  },
  {
   "cell_type": "code",
   "execution_count": null,
   "id": "c76f547d",
   "metadata": {},
   "outputs": [],
   "source": [
    "jumps_msg = \"<class 'KeyError'>: 'jumps'\"\n",
    "event_61 = \"<class 'ValueError'>: 61 is not a valid EventType\"\n",
    "char_27 = \"<class 'ValueError'>: 27 is not a valid Character\""
   ]
  },
  {
   "cell_type": "code",
   "execution_count": null,
   "id": "7dcc0c81",
   "metadata": {},
   "outputs": [],
   "source": [
    "%pdb"
   ]
  },
  {
   "cell_type": "code",
   "execution_count": null,
   "id": "fd250c85",
   "metadata": {},
   "outputs": [],
   "source": [
    "local_files[char_27]"
   ]
  },
  {
   "cell_type": "code",
   "execution_count": null,
   "id": "dfebd38b",
   "metadata": {},
   "outputs": [],
   "source": [
    "char_27_game = peppi_py.game(local_files[char_27])"
   ]
  },
  {
   "cell_type": "code",
   "execution_count": null,
   "id": "30b17157",
   "metadata": {},
   "outputs": [],
   "source": [
    "char_27_game['metadata']"
   ]
  },
  {
   "cell_type": "code",
   "execution_count": null,
   "id": "7754fb41",
   "metadata": {},
   "outputs": [],
   "source": [
    "preprocessing.assert_same_parse(local_files[value_61])"
   ]
  },
  {
   "cell_type": "code",
   "execution_count": null,
   "id": "2b6b78b3",
   "metadata": {},
   "outputs": [],
   "source": [
    "value_61_game = peppi_py.game(local_files[value_61])"
   ]
  },
  {
   "cell_type": "code",
   "execution_count": null,
   "id": "2967722c",
   "metadata": {},
   "outputs": [],
   "source": [
    "value_61_game['start']"
   ]
  },
  {
   "cell_type": "code",
   "execution_count": null,
   "id": "a9c1436d",
   "metadata": {},
   "outputs": [],
   "source": [
    "# p0_action_path = local_files[\"AssertionError: ('p0', 'action')\"]\n",
    "p0_action_path = 'peppi_test/21_35_46 [NOAH] Ice Climbers + [TITP] Captain Falcon (FD).slp'"
   ]
  },
  {
   "cell_type": "code",
   "execution_count": null,
   "id": "c92acfbf",
   "metadata": {},
   "outputs": [],
   "source": [
    "game_rollbacks = peppi_py.game(p0_action_path, rollbacks=True)"
   ]
  },
  {
   "cell_type": "code",
   "execution_count": null,
   "id": "cf59c418",
   "metadata": {},
   "outputs": [],
   "source": [
    "game_rollbacks['frames'].field('index')[:10]"
   ]
  },
  {
   "cell_type": "code",
   "execution_count": null,
   "id": "18cd0f60",
   "metadata": {},
   "outputs": [],
   "source": [
    "game = peppi_py.game(p0_action_path)"
   ]
  },
  {
   "cell_type": "code",
   "execution_count": null,
   "id": "40467485",
   "metadata": {},
   "outputs": [],
   "source": [
    "# frames = game['frames']\n",
    "frames = game_rollbacks['frames']\n",
    "index = frames.field('index').to_numpy()\n",
    "first_indices = []\n",
    "next_idx = -123\n",
    "for i, idx in enumerate(index):\n",
    "    if idx == next_idx:\n",
    "        first_indices.append(i)\n",
    "        next_idx += 1"
   ]
  },
  {
   "cell_type": "code",
   "execution_count": null,
   "id": "c6247b7b",
   "metadata": {},
   "outputs": [],
   "source": [
    "print(len(frames), len(first_indices))"
   ]
  },
  {
   "cell_type": "code",
   "execution_count": null,
   "id": "0425d274",
   "metadata": {},
   "outputs": [],
   "source": [
    "def iter_libmelee(path: str):\n",
    "    console = melee.Console(\n",
    "        is_dolphin=False,\n",
    "        allow_old_version=True,\n",
    "        path=path)\n",
    "    console.connect()\n",
    "    \n",
    "    while True:\n",
    "        gamestate = console.step()\n",
    "        if gamestate is None:\n",
    "            break\n",
    "        yield gamestate"
   ]
  },
  {
   "cell_type": "code",
   "execution_count": null,
   "id": "5446edee",
   "metadata": {},
   "outputs": [],
   "source": [
    "states = list(iter_libmelee(p0_action_path))"
   ]
  },
  {
   "cell_type": "code",
   "execution_count": null,
   "id": "6f5080e5",
   "metadata": {},
   "outputs": [],
   "source": [
    "len(states)"
   ]
  },
  {
   "cell_type": "code",
   "execution_count": null,
   "id": "b6a09f2a",
   "metadata": {},
   "outputs": [],
   "source": [
    "first_frame_indices = [index[i] for i in first_indices]"
   ]
  },
  {
   "cell_type": "code",
   "execution_count": null,
   "id": "a23376bb",
   "metadata": {},
   "outputs": [],
   "source": [
    "all_frame_indices = set(index)"
   ]
  },
  {
   "cell_type": "code",
   "execution_count": null,
   "id": "d809a98a",
   "metadata": {},
   "outputs": [],
   "source": [
    "len(all_frame_indices)"
   ]
  },
  {
   "cell_type": "code",
   "execution_count": null,
   "id": "7b12a7c1",
   "metadata": {},
   "outputs": [],
   "source": [
    "index"
   ]
  },
  {
   "cell_type": "code",
   "execution_count": null,
   "id": "d260cf58",
   "metadata": {},
   "outputs": [],
   "source": [
    "raw_db = upload_lib.get_db(ENV, 'raw')\n",
    "slp_db = upload_lib.get_db(ENV, 'slp')\n",
    "\n",
    "def raw_from_slp_key(slp_key: str):\n",
    "    slp_info = slp_db.find_one({'key': slp_key})\n",
    "    raw_info = raw_db.find_one({'key': slp_info['raw_key']})\n",
    "    return raw_info"
   ]
  },
  {
   "cell_type": "code",
   "execution_count": null,
   "id": "4ed71407",
   "metadata": {},
   "outputs": [],
   "source": [
    "slp_key = by_message[event_61][0]['key']"
   ]
  },
  {
   "cell_type": "code",
   "execution_count": null,
   "id": "20b0fa1c",
   "metadata": {},
   "outputs": [],
   "source": [
    "raw_info = raw_from_slp_key(slp_key)"
   ]
  },
  {
   "cell_type": "code",
   "execution_count": null,
   "id": "a410c433",
   "metadata": {},
   "outputs": [],
   "source": [
    "raw_info"
   ]
  },
  {
   "cell_type": "code",
   "execution_count": null,
   "id": "e497c91d",
   "metadata": {},
   "outputs": [],
   "source": [
    "from slippi_db import parse_libmelee\n",
    "from importlib import reload\n",
    "reload(melee.console)"
   ]
  },
  {
   "cell_type": "code",
   "execution_count": null,
   "id": "af9d3d3b",
   "metadata": {},
   "outputs": [],
   "source": [
    "parse_libmelee.get_slp('peppi_test/21_35_46 [NOAH] Ice Climbers + [TITP] Captain Falcon (FD).slp')"
   ]
  },
  {
   "cell_type": "code",
   "execution_count": null,
   "id": "8a4a678e",
   "metadata": {},
   "outputs": [],
   "source": []
  }
 ],
 "metadata": {
  "kernelspec": {
   "display_name": "Python 3 (ipykernel)",
   "language": "python",
   "name": "python3"
  },
  "language_info": {
   "codemirror_mode": {
    "name": "ipython",
    "version": 3
   },
   "file_extension": ".py",
   "mimetype": "text/x-python",
   "name": "python",
   "nbconvert_exporter": "python",
   "pygments_lexer": "ipython3",
   "version": "3.9.5"
  }
 },
 "nbformat": 4,
 "nbformat_minor": 5
}
