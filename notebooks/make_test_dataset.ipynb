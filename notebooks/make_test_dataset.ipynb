{
 "cells": [
  {
   "cell_type": "code",
   "execution_count": 1,
   "id": "26d737bf",
   "metadata": {},
   "outputs": [],
   "source": [
    "import random\n",
    "import typing\n",
    "from slippi_db import upload_lib"
   ]
  },
  {
   "cell_type": "code",
   "execution_count": 2,
   "id": "d61f999a",
   "metadata": {},
   "outputs": [],
   "source": [
    "prod_meta = upload_lib.get_db('prod', 'meta')"
   ]
  },
  {
   "cell_type": "code",
   "execution_count": 3,
   "id": "bb84b540",
   "metadata": {},
   "outputs": [],
   "source": [
    "%%time\n",
    "meta = list(prod_meta.find({}))"
   ]
  },
  {
   "cell_type": "code",
   "execution_count": 4,
   "id": "d34c224a",
   "metadata": {},
   "outputs": [],
   "source": [
    "meta_by_key = {info['key']: info for info in meta}"
   ]
  },
  {
   "cell_type": "code",
   "execution_count": 7,
   "id": "9fab0d6d",
   "metadata": {},
   "outputs": [],
   "source": [
    "class Settings(typing.NamedTuple):\n",
    "    num_invalid: int\n",
    "    rest: int"
   ]
  },
  {
   "cell_type": "code",
   "execution_count": 8,
   "id": "c0117eb4",
   "metadata": {},
   "outputs": [],
   "source": [
    "def gather_keys(settings: Settings) -> typing.List[str]:\n",
    "    infos = []\n",
    "\n",
    "    # invalid\n",
    "    invalid = list(filter(lambda info: info.get('invalid', False), meta))\n",
    "    infos.extend(random.sample(invalid, settings.num_invalid))\n",
    "\n",
    "    valid = list(filter(lambda info: not info.get('invalid', False), meta))\n",
    "    infos.extend(random.sample(valid, settings.rest))\n",
    "\n",
    "    keys = [info['key'] for info in infos]\n",
    "    return keys"
   ]
  },
  {
   "cell_type": "code",
   "execution_count": 9,
   "id": "c6e45fb9",
   "metadata": {},
   "outputs": [],
   "source": [
    "compression_test_settings = Settings(\n",
    "    num_invalid=0,\n",
    "    rest=10,\n",
    ")\n",
    "\n",
    "compression_test_keys = gather_keys(compression_test_settings)"
   ]
  },
  {
   "cell_type": "code",
   "execution_count": null,
   "id": "9cfc4e7a",
   "metadata": {},
   "outputs": [],
   "source": [
    "old_env = 'prod'\n",
    "\n",
    "def make_new_env(new_env: str, keys: typing.List[str]):\n",
    "    for db_name in [upload_lib.SLP]:\n",
    "        old_db = upload_lib.get_db(old_env, db_name)\n",
    "        new_db = upload_lib.get_db(new_env, db_name)\n",
    "        \n",
    "        infos = []\n",
    "        for key in keys:\n",
    "            info = old_db.find_one({'key': key})\n",
    "            del info['_id']\n",
    "            infos.append(info)\n",
    "\n",
    "        new_db.insert_many(infos)\n",
    "    \n",
    "    for key in keys:\n",
    "        source = dict(\n",
    "            Bucket=upload_lib.bucket.name,\n",
    "            Key='/'.join([old_env, upload_lib.SLP, key]),\n",
    "        )\n",
    "        \n",
    "        upload_lib.bucket.copy(\n",
    "            CopySource=source,\n",
    "            Key='/'.join([new_env, upload_lib.SLP, key]),\n",
    "        )"
   ]
  },
  {
   "cell_type": "code",
   "execution_count": null,
   "id": "86949915",
   "metadata": {},
   "outputs": [],
   "source": [
    "make_new_env('compression_test', compression_test_keys)"
   ]
  },
  {
   "cell_type": "code",
   "execution_count": null,
   "id": "42295cf2",
   "metadata": {},
   "outputs": [],
   "source": [
    "upload_lib.nuke_replays('compression_test', 'none')"
   ]
  },
  {
   "cell_type": "code",
   "execution_count": null,
   "id": "408804fc",
   "metadata": {},
   "outputs": [],
   "source": []
  }
 ],
 "metadata": {
  "kernelspec": {
   "display_name": "Python 3 (ipykernel)",
   "language": "python",
   "name": "python3"
  },
  "language_info": {
   "codemirror_mode": {
    "name": "ipython",
    "version": 3
   },
   "file_extension": ".py",
   "mimetype": "text/x-python",
   "name": "python",
   "nbconvert_exporter": "python",
   "pygments_lexer": "ipython3",
   "version": "3.9.15"
  }
 },
 "nbformat": 4,
 "nbformat_minor": 5
}
