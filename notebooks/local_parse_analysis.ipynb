{
 "cells": [
  {
   "cell_type": "code",
   "execution_count": null,
   "id": "fdf8d3ec-6440-4635-9718-4239a6075991",
   "metadata": {},
   "outputs": [],
   "source": [
    "import collections\n",
    "import pickle\n",
    "import pandas as pd\n",
    "import os\n",
    "import peppi_py\n",
    "import tree\n",
    "import json\n",
    "import io\n",
    "import math\n",
    "import tqdm.notebook\n",
    "import functools\n",
    "\n",
    "from slippi_db import utils, preprocessing, parse_peppi"
   ]
  },
  {
   "cell_type": "code",
   "execution_count": null,
   "id": "93ca83d0-1b9b-4206-8926-e9349a7879ba",
   "metadata": {},
   "outputs": [],
   "source": [
    "from itables import init_notebook_mode\n",
    "init_notebook_mode(all_interactive=True)"
   ]
  },
  {
   "cell_type": "code",
   "execution_count": null,
   "id": "1d99dea6-c23d-466c-9a71-137a97557f0a",
   "metadata": {},
   "outputs": [],
   "source": [
    "root = '/linusr/vlad/SSBM/Replays'"
   ]
  },
  {
   "cell_type": "code",
   "execution_count": null,
   "id": "096ab2e6-592a-4119-9fa3-17d9469a7d48",
   "metadata": {},
   "outputs": [],
   "source": [
    "parsed_path = os.path.join(root, 'parsed.pkl')\n",
    "\n",
    "with open(parsed_path, 'rb') as f:\n",
    "    data_bytes = f.read()\n",
    "len(data_bytes)"
   ]
  },
  {
   "cell_type": "code",
   "execution_count": null,
   "id": "6b0efa52-4dba-49f1-9028-9948df6617a3",
   "metadata": {},
   "outputs": [],
   "source": [
    "%%time\n",
    "data = pickle.loads(data_bytes)\n",
    "del data_bytes\n",
    "len(data)"
   ]
  },
  {
   "cell_type": "code",
   "execution_count": null,
   "id": "77b5bdb8-452d-4129-a00f-96c34790d4ea",
   "metadata": {},
   "outputs": [],
   "source": [
    "# %%time\n",
    "# data_json = json.dumps(data)\n",
    "# len(data_json)"
   ]
  },
  {
   "cell_type": "code",
   "execution_count": null,
   "id": "e8e05316-b3d7-4c60-8657-4c3b63ddfdae",
   "metadata": {},
   "outputs": [],
   "source": [
    "# %%time\n",
    "# json.loads(data_json);"
   ]
  },
  {
   "cell_type": "code",
   "execution_count": null,
   "id": "b500fc91-8d4c-4164-affd-864710bb5d8a",
   "metadata": {},
   "outputs": [],
   "source": [
    "df = pd.DataFrame(data)"
   ]
  },
  {
   "cell_type": "code",
   "execution_count": null,
   "id": "643354bf-c04c-45be-9096-2ccbb48d22d7",
   "metadata": {},
   "outputs": [],
   "source": [
    "@functools.cache\n",
    "def compact_raw(raw: str) -> str:\n",
    "    if raw.startswith('Players/'):\n",
    "        return raw.split('/')[1]\n",
    "    if raw.startswith('Phillip/'):\n",
    "        return 'Phillip'\n",
    "    return raw\n",
    "\n",
    "df['compact_raw'] = df['raw'].map(compact_raw)"
   ]
  },
  {
   "cell_type": "code",
   "execution_count": null,
   "id": "087d5d29-b379-46d4-84d2-4a18c9760a2b",
   "metadata": {},
   "outputs": [],
   "source": [
    "df.groupby('compact_raw')['reason'].value_counts()"
   ]
  },
  {
   "cell_type": "code",
   "execution_count": null,
   "id": "ee352a1a-7116-42c4-8c70-a607e5e834bb",
   "metadata": {},
   "outputs": [],
   "source": [
    "df.groupby('compact_raw')['is_training'].mean()"
   ]
  },
  {
   "cell_type": "code",
   "execution_count": null,
   "id": "2a82e050-0bb3-4449-a02f-468f0da84a36",
   "metadata": {},
   "outputs": [],
   "source": [
    "not_valid_reasons = df[~df['valid']]\n",
    "not_training_reasons.groupby('compact_raw')['reason'].value_counts()"
   ]
  },
  {
   "cell_type": "code",
   "execution_count": null,
   "id": "e672bdf9-1331-4823-865a-a21a474c8f29",
   "metadata": {},
   "outputs": [],
   "source": [
    "# not_training_reasons = df[df['not_training_reason'] != '']\n",
    "df.groupby('compact_raw')['not_training_reason'].value_counts(normalize=True)"
   ]
  },
  {
   "cell_type": "code",
   "execution_count": null,
   "id": "dda5d945-8d84-4a72-a95c-449cf080745c",
   "metadata": {},
   "outputs": [],
   "source": [
    "df['has_winner'] = ~df['winner'].isnull()\n",
    "valid = df[df['valid']]\n",
    "training = df[df['is_training'] == True]\n",
    "no_winner = training[~training['has_winner']]"
   ]
  },
  {
   "cell_type": "code",
   "execution_count": null,
   "id": "1a3c99c4-e58b-4d54-a93b-c21b72b61645",
   "metadata": {},
   "outputs": [],
   "source": [
    "training.groupby('compact_raw')['has_winner'].mean()"
   ]
  },
  {
   "cell_type": "code",
   "execution_count": null,
   "id": "a7e972d0-2c03-41f2-94a9-2634b46b6043",
   "metadata": {},
   "outputs": [],
   "source": [
    "phillip_df = df[df['compact_raw'] == 'Phillip']\n",
    "len(phillip_df)"
   ]
  },
  {
   "cell_type": "code",
   "execution_count": null,
   "id": "cb815441-9feb-469e-a792-265472fcb5e5",
   "metadata": {},
   "outputs": [],
   "source": [
    "phillip_df['agent'] = phillip_df['name'].map(lambda s: s.split('/')[0])"
   ]
  },
  {
   "cell_type": "code",
   "execution_count": null,
   "id": "4fefc6ed-8632-46f9-9f31-3f72e5cd6073",
   "metadata": {},
   "outputs": [],
   "source": [
    "phillip_df['agent'].value_counts()"
   ]
  },
  {
   "cell_type": "code",
   "execution_count": null,
   "id": "58677857-9974-4291-a949-fa2573e8fb98",
   "metadata": {},
   "outputs": [],
   "source": [
    "phillip_df['not_training_reason'].value_counts()"
   ]
  },
  {
   "cell_type": "code",
   "execution_count": null,
   "id": "36212557-cbde-434a-9da4-39028f693228",
   "metadata": {},
   "outputs": [],
   "source": [
    "import typing as tp\n",
    "import itertools\n",
    "import melee\n",
    "from slippi_ai import nametags"
   ]
  },
  {
   "cell_type": "code",
   "execution_count": null,
   "id": "56930a81-abe8-410d-a0c8-cb8e9c854313",
   "metadata": {},
   "outputs": [],
   "source": [
    "def split_row(row: dict) -> tp.Iterator[dict]:\n",
    "    for player in row['players']:\n",
    "        new_row = row.copy()\n",
    "        del new_row['players']\n",
    "        new_row.update(player)\n",
    "        new_row['filename'] = new_row['name']\n",
    "\n",
    "        name = nametags.name_from_metadata(player)\n",
    "        new_row['name'] = nametags.normalize_name(name)\n",
    "\n",
    "        new_row['char'] = char_to_str(player['character'])\n",
    "        new_row['compact_raw'] = compact_raw(row['raw'])\n",
    "        yield new_row\n",
    "\n",
    "def char_to_str(char: int) -> str:\n",
    "    return melee.Character(char).name\n",
    "\n",
    "def make_per_player_df(rows):\n",
    "    per_player_data = []\n",
    "    for row in tqdm.notebook.tqdm(rows):\n",
    "        if not row['valid'] or not row['is_training']:\n",
    "            continue\n",
    "        per_player_data.extend(list(split_row(row)))\n",
    "    \n",
    "    return pd.DataFrame(per_player_data)"
   ]
  },
  {
   "cell_type": "code",
   "execution_count": null,
   "id": "f685b3b9-f97e-4695-a117-cd6f420c7757",
   "metadata": {},
   "outputs": [],
   "source": [
    "%%time\n",
    "per_player_df = make_per_player_df(data)"
   ]
  },
  {
   "cell_type": "code",
   "execution_count": null,
   "id": "e08dbeb7-2dc1-4b15-9b0c-82b74e2b4862",
   "metadata": {},
   "outputs": [],
   "source": [
    "# per_player_df.groupby('compact_raw')['name'].value_counts()"
   ]
  },
  {
   "cell_type": "code",
   "execution_count": null,
   "id": "77d63fda-6aee-4c5f-9ab4-9e14f9b71803",
   "metadata": {},
   "outputs": [],
   "source": [
    "falco_df = per_player_df[per_player_df['char'] == 'FALCO']\n",
    "len(falco_df)"
   ]
  },
  {
   "cell_type": "code",
   "execution_count": null,
   "id": "7517c2c4-9f44-4497-83bb-114a1f72b485",
   "metadata": {},
   "outputs": [],
   "source": [
    "falco_df['name'].value_counts()"
   ]
  },
  {
   "cell_type": "code",
   "execution_count": null,
   "id": "61a91911-8222-40a8-9cbe-a038a2ab76a5",
   "metadata": {},
   "outputs": [],
   "source": [
    "by_name_and_raw = falco_df.groupby(['name', 'compact_raw']).size().reset_index(name='count')"
   ]
  },
  {
   "cell_type": "code",
   "execution_count": null,
   "id": "50d4e9fb-8b1c-4e1e-bc97-c46f8325f915",
   "metadata": {},
   "outputs": [],
   "source": [
    "by_name_and_raw.sort_values('count', ascending=False)"
   ]
  },
  {
   "cell_type": "code",
   "execution_count": null,
   "id": "50ac1f8b-be17-43ea-b91b-34edc1840c47",
   "metadata": {},
   "outputs": [],
   "source": [
    "kjh_df = per_player_df[per_player_df['compact_raw'] == 'BillyBoPeep']\n",
    "len(kjh_df)"
   ]
  },
  {
   "cell_type": "code",
   "execution_count": null,
   "id": "583b178c-da1a-4132-9c3e-50b5b3cb8806",
   "metadata": {},
   "outputs": [],
   "source": [
    "kjh_df['char'].value_counts()"
   ]
  },
  {
   "cell_type": "code",
   "execution_count": null,
   "id": "a1563925-cb3e-42ff-8ed3-3f04e5ea7579",
   "metadata": {},
   "outputs": [],
   "source": [
    "kjh_df['name'].value_counts()"
   ]
  },
  {
   "cell_type": "code",
   "execution_count": null,
   "id": "3dcae024-32fe-49c1-aa26-b762eddea207",
   "metadata": {},
   "outputs": [],
   "source": [
    "phil_df = per_player_df[per_player_df['name'] == 'Phillip AI']\n",
    "phil_df['compact_raw'].value_counts()"
   ]
  },
  {
   "cell_type": "code",
   "execution_count": null,
   "id": "08571a82-6ced-487b-941a-d018a1ec7f5d",
   "metadata": {},
   "outputs": [],
   "source": [
    "vs_phil_df = per_player_df[per_player_df['compact_raw'] == 'Phillip/Phillip-2025-3-30.zip']\n",
    "vs_phil_df = vs_phil_df[vs_phil_df['name'] != 'Phillip AI']\n",
    "len(vs_phil_df)"
   ]
  },
  {
   "cell_type": "code",
   "execution_count": null,
   "id": "4b5913e0-6375-459b-8e80-b3319a498543",
   "metadata": {},
   "outputs": [],
   "source": [
    "vs_phil_df['name'].value_counts()"
   ]
  },
  {
   "cell_type": "code",
   "execution_count": null,
   "id": "9e4784c2-0c28-4be7-8769-67d47dbdf5a7",
   "metadata": {},
   "outputs": [],
   "source": [
    "KNOWN_PLAYERS = {group[0] for group in nametags.name_groups}"
   ]
  },
  {
   "cell_type": "code",
   "execution_count": null,
   "id": "f24f62db-fe2e-41c8-b74e-aba8839622a9",
   "metadata": {},
   "outputs": [],
   "source": [
    "known_phil_df = vs_phil_df[vs_phil_df['name'].isin(KNOWN_PLAYERS)].copy()\n",
    "len(known_phil_df)"
   ]
  },
  {
   "cell_type": "code",
   "execution_count": null,
   "id": "464157ed-89b7-468c-b284-f2cdeab6fe64",
   "metadata": {},
   "outputs": [],
   "source": [
    "known_phil_df['name'].value_counts()"
   ]
  },
  {
   "cell_type": "code",
   "execution_count": null,
   "id": "2ee94cc9-5115-4b11-8ad1-9dcb23652650",
   "metadata": {},
   "outputs": [],
   "source": [
    "known_phil_df['has_winner'] = ~known_phil_df['winner'].isnull()"
   ]
  },
  {
   "cell_type": "code",
   "execution_count": null,
   "id": "5fc3d86b-81ee-486d-9a28-861a32c73fde",
   "metadata": {},
   "outputs": [],
   "source": [
    "known_phil_df.groupby('name')['has_winner'].mean()"
   ]
  },
  {
   "cell_type": "code",
   "execution_count": null,
   "id": "f11df354-364f-4974-bf36-1b46a34c0041",
   "metadata": {},
   "outputs": [],
   "source": [
    "known_phil_df['sufficient_damage'] = known_phil_df['damage_taken'] >= 100\n",
    "known_phil_df.groupby('name')['sufficient_damage'].mean()"
   ]
  },
  {
   "cell_type": "code",
   "execution_count": null,
   "id": "46f36997-3e4d-4ba5-92bb-24d99c8f4e5c",
   "metadata": {},
   "outputs": [],
   "source": []
  }
 ],
 "metadata": {
  "kernelspec": {
   "display_name": "Python 3 (ipykernel)",
   "language": "python",
   "name": "python3"
  },
  "language_info": {
   "codemirror_mode": {
    "name": "ipython",
    "version": 3
   },
   "file_extension": ".py",
   "mimetype": "text/x-python",
   "name": "python",
   "nbconvert_exporter": "python",
   "pygments_lexer": "ipython3",
   "version": "3.10.12"
  }
 },
 "nbformat": 4,
 "nbformat_minor": 5
}
