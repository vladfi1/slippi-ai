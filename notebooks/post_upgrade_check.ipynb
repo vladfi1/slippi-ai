{
 "cells": [
  {
   "cell_type": "code",
   "execution_count": null,
   "id": "f36739d5-a9ac-481a-a3d6-e8b969fe0095",
   "metadata": {},
   "outputs": [],
   "source": [
    "import pandas as pd\n",
    "import json"
   ]
  },
  {
   "cell_type": "code",
   "execution_count": null,
   "id": "9e18ad25-0c65-4c49-85d3-b920d864c911",
   "metadata": {},
   "outputs": [],
   "source": [
    "path = '/linusr/vlad/SSBM/Replays/Scratch/upgrade_check.json'\n",
    "\n",
    "with open(path) as f:\n",
    "    results = json.load(f)\n",
    "\n",
    "len(results)"
   ]
  },
  {
   "cell_type": "code",
   "execution_count": null,
   "id": "ec570165-ee9c-4259-bc89-1d8ae4f3d028",
   "metadata": {},
   "outputs": [],
   "source": [
    "df = pd.DataFrame(results)"
   ]
  },
  {
   "cell_type": "code",
   "execution_count": null,
   "id": "bae53dfd-370e-4a8c-893e-c339e86a1658",
   "metadata": {},
   "outputs": [],
   "source": [
    "results[0]"
   ]
  },
  {
   "cell_type": "code",
   "execution_count": null,
   "id": "4669040e-6963-4f7b-940b-66677c874a75",
   "metadata": {},
   "outputs": [],
   "source": [
    "failed = df[~df['error'].isnull()]\n",
    "len(failed)"
   ]
  },
  {
   "cell_type": "code",
   "execution_count": null,
   "id": "2b2feddf-94e4-48ae-993d-de5886b36471",
   "metadata": {},
   "outputs": [],
   "source": [
    "failed['error'].value_counts()"
   ]
  },
  {
   "cell_type": "code",
   "execution_count": null,
   "id": "fffd9177-0295-4c17-b5d5-dea2720f1d94",
   "metadata": {},
   "outputs": [],
   "source": []
  }
 ],
 "metadata": {
  "kernelspec": {
   "display_name": "Python 3 (ipykernel)",
   "language": "python",
   "name": "python3"
  },
  "language_info": {
   "codemirror_mode": {
    "name": "ipython",
    "version": 3
   },
   "file_extension": ".py",
   "mimetype": "text/x-python",
   "name": "python",
   "nbconvert_exporter": "python",
   "pygments_lexer": "ipython3",
   "version": "3.10.12"
  }
 },
 "nbformat": 4,
 "nbformat_minor": 5
}
