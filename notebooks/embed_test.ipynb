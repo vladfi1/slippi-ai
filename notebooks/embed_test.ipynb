{
 "cells": [
  {
   "cell_type": "code",
   "execution_count": null,
   "id": "c6ae1e39",
   "metadata": {},
   "outputs": [],
   "source": [
    "from slippi_ai import networks, embed"
   ]
  },
  {
   "cell_type": "code",
   "execution_count": null,
   "id": "a7a0dc15",
   "metadata": {},
   "outputs": [],
   "source": [
    "networks.embed_game"
   ]
  },
  {
   "cell_type": "code",
   "execution_count": null,
   "id": "8b1aa9ca",
   "metadata": {},
   "outputs": [],
   "source": [
    "def print_embedding(embedding):\n",
    "    embed_struct = embedding.map(lambda e: e)\n",
    "    embed_flat = list(embedding.flatten(embed_struct))\n",
    "    total = 0\n",
    "    for e in embed_flat:\n",
    "        print(e.name, e.size)\n",
    "        total += e.size\n",
    "    print(total)"
   ]
  },
  {
   "cell_type": "code",
   "execution_count": null,
   "id": "f9ea42ad",
   "metadata": {},
   "outputs": [],
   "source": [
    "print_embedding(networks.embed_game)"
   ]
  },
  {
   "cell_type": "code",
   "execution_count": null,
   "id": "8d054860",
   "metadata": {},
   "outputs": [],
   "source": [
    "print_embedding(embed.embed_controller_discrete)"
   ]
  },
  {
   "cell_type": "code",
   "execution_count": null,
   "id": "ebcdc490",
   "metadata": {},
   "outputs": [],
   "source": [
    "import melee"
   ]
  },
  {
   "cell_type": "code",
   "execution_count": null,
   "id": "68c28b44",
   "metadata": {},
   "outputs": [],
   "source": [
    "len(melee.Action)"
   ]
  },
  {
   "cell_type": "code",
   "execution_count": null,
   "id": "be35ea9f",
   "metadata": {},
   "outputs": [],
   "source": []
  }
 ],
 "metadata": {
  "kernelspec": {
   "display_name": "Python 3",
   "language": "python",
   "name": "python3"
  },
  "language_info": {
   "codemirror_mode": {
    "name": "ipython",
    "version": 3
   },
   "file_extension": ".py",
   "mimetype": "text/x-python",
   "name": "python",
   "nbconvert_exporter": "python",
   "pygments_lexer": "ipython3",
   "version": "3.8.10"
  }
 },
 "nbformat": 4,
 "nbformat_minor": 5
}
