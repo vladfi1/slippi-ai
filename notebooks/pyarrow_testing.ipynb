{
 "cells": [
  {
   "cell_type": "code",
   "execution_count": null,
   "id": "006b9ea5",
   "metadata": {},
   "outputs": [],
   "source": [
    "import pyarrow as pa"
   ]
  },
  {
   "cell_type": "code",
   "execution_count": null,
   "id": "afbdf8d3",
   "metadata": {},
   "outputs": [],
   "source": [
    "t = pa.uint16()"
   ]
  },
  {
   "cell_type": "code",
   "execution_count": null,
   "id": "20a85def",
   "metadata": {},
   "outputs": [],
   "source": [
    "point_type = pa.struct([('x', pa.float32()), ('y', pa.float32())])\n",
    "list_type = pa.list_(point_type)\n",
    "dict_type = pa.dictionary(pa.uint8(), point_type)"
   ]
  },
  {
   "cell_type": "code",
   "execution_count": null,
   "id": "6cf7d4e2",
   "metadata": {},
   "outputs": [],
   "source": [
    "p = {'x': 1, 'y': 2}"
   ]
  },
  {
   "cell_type": "code",
   "execution_count": null,
   "id": "97ef9b68",
   "metadata": {},
   "outputs": [],
   "source": [
    "sa = pa.array([p], type=point_type)"
   ]
  },
  {
   "cell_type": "code",
   "execution_count": null,
   "id": "0a56efe8",
   "metadata": {},
   "outputs": [],
   "source": [
    "sa.to_numpy(zero_copy_only=False)"
   ]
  },
  {
   "cell_type": "code",
   "execution_count": null,
   "id": "110668ef",
   "metadata": {},
   "outputs": [],
   "source": [
    "arr = pa.array([1], type=pa.float32())\n",
    "sa2 = pa.StructArray.from_arrays([arr, arr], ['x', 'y'])"
   ]
  },
  {
   "cell_type": "code",
   "execution_count": null,
   "id": "6107fd14",
   "metadata": {},
   "outputs": [],
   "source": [
    "sa.take([0, 0, 0])"
   ]
  },
  {
   "cell_type": "code",
   "execution_count": null,
   "id": "52cd9373",
   "metadata": {},
   "outputs": [],
   "source": [
    "xs = np.array([1, 2, 3])"
   ]
  },
  {
   "cell_type": "code",
   "execution_count": null,
   "id": "66b17253",
   "metadata": {},
   "outputs": [],
   "source": [
    "rect = pa.struct([('a', point_type), ('b', point_type)])"
   ]
  },
  {
   "cell_type": "code",
   "execution_count": null,
   "id": "0b109cdd",
   "metadata": {},
   "outputs": [],
   "source": [
    "pp = pa.scalar(p, point_type)\n",
    "pa.scalar({'a': p, 'b': p}, rect)"
   ]
  },
  {
   "cell_type": "code",
   "execution_count": null,
   "id": "6b155d86",
   "metadata": {},
   "outputs": [],
   "source": []
  },
  {
   "cell_type": "code",
   "execution_count": null,
   "id": "5a683424",
   "metadata": {},
   "outputs": [],
   "source": [
    "np_pa = pa.StructArray.from_arrays([xs, xs], names=['x', 'y'])"
   ]
  },
  {
   "cell_type": "code",
   "execution_count": null,
   "id": "833c9ccf",
   "metadata": {},
   "outputs": [],
   "source": [
    "np_pa.type"
   ]
  },
  {
   "cell_type": "code",
   "execution_count": null,
   "id": "e3bbc583",
   "metadata": {},
   "outputs": [],
   "source": [
    "import numpy as np\n",
    "from typing import NamedTuple"
   ]
  },
  {
   "cell_type": "code",
   "execution_count": null,
   "id": "8f29e3ce",
   "metadata": {},
   "outputs": [],
   "source": [
    "class Point(NamedTuple):\n",
    "    x: np.float32\n",
    "    y: np.float32"
   ]
  },
  {
   "cell_type": "code",
   "execution_count": null,
   "id": "11ac89c7",
   "metadata": {},
   "outputs": [],
   "source": [
    "Point._fields"
   ]
  },
  {
   "cell_type": "code",
   "execution_count": null,
   "id": "08b38010",
   "metadata": {},
   "outputs": [],
   "source": [
    "Point._"
   ]
  },
  {
   "cell_type": "code",
   "execution_count": null,
   "id": "06d7d2d3",
   "metadata": {},
   "outputs": [],
   "source": []
  },
  {
   "cell_type": "code",
   "execution_count": null,
   "id": "6f8d6b38",
   "metadata": {},
   "outputs": [],
   "source": []
  }
 ],
 "metadata": {
  "kernelspec": {
   "display_name": "Python 3 (ipykernel)",
   "language": "python",
   "name": "python3"
  },
  "language_info": {
   "codemirror_mode": {
    "name": "ipython",
    "version": 3
   },
   "file_extension": ".py",
   "mimetype": "text/x-python",
   "name": "python",
   "nbconvert_exporter": "python",
   "pygments_lexer": "ipython3",
   "version": "3.9.9"
  }
 },
 "nbformat": 4,
 "nbformat_minor": 5
}
