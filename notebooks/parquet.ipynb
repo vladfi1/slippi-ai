{
 "cells": [
  {
   "cell_type": "code",
   "execution_count": null,
   "id": "6d577122",
   "metadata": {},
   "outputs": [],
   "source": [
    "import pyarrow as pa\n",
    "from slippi_db import parse_libmelee\n",
    "import pyarrow.parquet as pq\n",
    "import io"
   ]
  },
  {
   "cell_type": "code",
   "execution_count": null,
   "id": "c81dc205",
   "metadata": {},
   "outputs": [],
   "source": [
    "game = parse_libmelee.get_slp('peppi_test/21_35_46 [NOAH] Ice Climbers + [TITP] Captain Falcon (FD).slp')"
   ]
  },
  {
   "cell_type": "code",
   "execution_count": null,
   "id": "c690b27f",
   "metadata": {},
   "outputs": [],
   "source": [
    "table = pa.Table.from_arrays([game], names=['root'])"
   ]
  },
  {
   "cell_type": "code",
   "execution_count": null,
   "id": "9212e1d1",
   "metadata": {},
   "outputs": [],
   "source": [
    "f = io.BytesIO()"
   ]
  },
  {
   "cell_type": "code",
   "execution_count": null,
   "id": "b3ae4657",
   "metadata": {},
   "outputs": [],
   "source": [
    "pq.write_table(table, f)"
   ]
  },
  {
   "cell_type": "code",
   "execution_count": null,
   "id": "d1b5055f",
   "metadata": {},
   "outputs": [],
   "source": [
    "len(f.getvalue())"
   ]
  },
  {
   "cell_type": "code",
   "execution_count": null,
   "id": "68952b4c",
   "metadata": {},
   "outputs": [],
   "source": []
  }
 ],
 "metadata": {
  "kernelspec": {
   "display_name": "Python 3 (ipykernel)",
   "language": "python",
   "name": "python3"
  },
  "language_info": {
   "codemirror_mode": {
    "name": "ipython",
    "version": 3
   },
   "file_extension": ".py",
   "mimetype": "text/x-python",
   "name": "python",
   "nbconvert_exporter": "python",
   "pygments_lexer": "ipython3",
   "version": "3.9.12"
  }
 },
 "nbformat": 4,
 "nbformat_minor": 5
}
