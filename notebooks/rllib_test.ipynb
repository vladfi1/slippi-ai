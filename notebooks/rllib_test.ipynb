{
 "cells": [
  {
   "cell_type": "code",
   "execution_count": null,
   "id": "ee91df82",
   "metadata": {},
   "outputs": [],
   "source": [
    "from ray import rllib\n",
    "from ray.rllib.agents import pg"
   ]
  },
  {
   "cell_type": "code",
   "execution_count": null,
   "id": "7f65bd92",
   "metadata": {},
   "outputs": [],
   "source": [
    "pg.DEFAULT_CONFIG['multiagent']"
   ]
  },
  {
   "cell_type": "code",
   "execution_count": null,
   "id": "f20598b6",
   "metadata": {},
   "outputs": [],
   "source": [
    "rllib.policy.policy.PolicySpec"
   ]
  },
  {
   "cell_type": "code",
   "execution_count": null,
   "id": "7fac0176",
   "metadata": {},
   "outputs": [],
   "source": []
  }
 ],
 "metadata": {
  "kernelspec": {
   "display_name": "Python 3 (ipykernel)",
   "language": "python",
   "name": "python3"
  },
  "language_info": {
   "codemirror_mode": {
    "name": "ipython",
    "version": 3
   },
   "file_extension": ".py",
   "mimetype": "text/x-python",
   "name": "python",
   "nbconvert_exporter": "python",
   "pygments_lexer": "ipython3",
   "version": "3.9.12"
  }
 },
 "nbformat": 4,
 "nbformat_minor": 5
}
