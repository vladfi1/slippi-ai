{
 "cells": [
  {
   "cell_type": "code",
   "execution_count": 1,
   "id": "aa0b3d5a-a4b4-4659-ae73-0fcc0298102a",
   "metadata": {},
   "outputs": [],
   "source": [
    "import contextlib"
   ]
  },
  {
   "cell_type": "code",
   "execution_count": 13,
   "id": "44fd63a3-8a7d-463e-ab1a-f49ff806fe9f",
   "metadata": {},
   "outputs": [],
   "source": [
    "@contextlib.contextmanager\n",
    "def cm(i):\n",
    "    try:\n",
    "        print(f'entered {i}')\n",
    "        yield i\n",
    "    finally:\n",
    "        print(f'exit {i}')\n",
    "\n",
    "def iterate(n):\n",
    "    for i in range(n):\n",
    "        with cm(i) as j:\n",
    "            yield j"
   ]
  },
  {
   "cell_type": "code",
   "execution_count": 22,
   "id": "8384e918-ef6b-4edb-b7d5-e386441981e1",
   "metadata": {},
   "outputs": [
    {
     "name": "stdout",
     "output_type": "stream",
     "text": [
      "entered 0\n",
      "in scope\n",
      "exit 0\n"
     ]
    }
   ],
   "source": [
    "def once():\n",
    "    it = iterate(3)\n",
    "    next(it)\n",
    "    print('in scope')\n",
    "\n",
    "once()"
   ]
  },
  {
   "cell_type": "code",
   "execution_count": 19,
   "id": "89727702-a43b-4c9e-8f1e-4346d99e55af",
   "metadata": {},
   "outputs": [
    {
     "name": "stdout",
     "output_type": "stream",
     "text": [
      "entered 0\n",
      "Iteration 0\n",
      "exit 0\n",
      "entered 1\n",
      "Iteration 1\n",
      "exit 1\n",
      "entered 2\n",
      "Iteration 2\n",
      "exit 2\n",
      "entered 3\n",
      "Iteration 3\n",
      "exit 3\n",
      "entered 4\n",
      "Iteration 4\n",
      "exit 4\n"
     ]
    }
   ],
   "source": [
    "it = iterate(5)\n",
    "for i in it:\n",
    "    print('Iteration', i)"
   ]
  },
  {
   "cell_type": "code",
   "execution_count": null,
   "id": "aa1b40e1-baf9-4e75-b7ef-de6300a0d521",
   "metadata": {},
   "outputs": [],
   "source": []
  }
 ],
 "metadata": {
  "kernelspec": {
   "display_name": "Python 3 (ipykernel)",
   "language": "python",
   "name": "python3"
  },
  "language_info": {
   "codemirror_mode": {
    "name": "ipython",
    "version": 3
   },
   "file_extension": ".py",
   "mimetype": "text/x-python",
   "name": "python",
   "nbconvert_exporter": "python",
   "pygments_lexer": "ipython3",
   "version": "3.9.13"
  }
 },
 "nbformat": 4,
 "nbformat_minor": 5
}
