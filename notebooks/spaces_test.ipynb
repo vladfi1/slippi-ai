{
 "cells": [
  {
   "cell_type": "code",
   "execution_count": null,
   "id": "89a01d61",
   "metadata": {},
   "outputs": [],
   "source": [
    "from gym import spaces"
   ]
  },
  {
   "cell_type": "code",
   "execution_count": null,
   "id": "e7cd4e86",
   "metadata": {},
   "outputs": [],
   "source": [
    "spaces.Box?"
   ]
  },
  {
   "cell_type": "code",
   "execution_count": null,
   "id": "ecabf5ba",
   "metadata": {},
   "outputs": [],
   "source": [
    "spaces.Box(1, 1)"
   ]
  },
  {
   "cell_type": "code",
   "execution_count": null,
   "id": "f6eb707f",
   "metadata": {},
   "outputs": [],
   "source": [
    "d2 = spaces.Discrete(2)"
   ]
  },
  {
   "cell_type": "code",
   "execution_count": null,
   "id": "27085b80",
   "metadata": {},
   "outputs": [],
   "source": [
    "d2.contains(True)"
   ]
  },
  {
   "cell_type": "code",
   "execution_count": null,
   "id": "3e97d4d9",
   "metadata": {},
   "outputs": [],
   "source": [
    "d2.contains(False)"
   ]
  },
  {
   "cell_type": "code",
   "execution_count": null,
   "id": "623eb8bc",
   "metadata": {},
   "outputs": [],
   "source": [
    "isinstance(True, int)"
   ]
  },
  {
   "cell_type": "code",
   "execution_count": null,
   "id": "6f56e6c2",
   "metadata": {},
   "outputs": [],
   "source": [
    "import numpy as np"
   ]
  },
  {
   "cell_type": "code",
   "execution_count": null,
   "id": "d67039b5",
   "metadata": {},
   "outputs": [],
   "source": [
    "np.typecodes[\"AllInteger\"]"
   ]
  },
  {
   "cell_type": "code",
   "execution_count": null,
   "id": "e9a0da70",
   "metadata": {},
   "outputs": [],
   "source": []
  },
  {
   "cell_type": "code",
   "execution_count": null,
   "id": "220fa01d",
   "metadata": {},
   "outputs": [],
   "source": []
  }
 ],
 "metadata": {
  "kernelspec": {
   "display_name": "Python 3 (ipykernel)",
   "language": "python",
   "name": "python3"
  },
  "language_info": {
   "codemirror_mode": {
    "name": "ipython",
    "version": 3
   },
   "file_extension": ".py",
   "mimetype": "text/x-python",
   "name": "python",
   "nbconvert_exporter": "python",
   "pygments_lexer": "ipython3",
   "version": "3.9.12"
  }
 },
 "nbformat": 4,
 "nbformat_minor": 5
}
