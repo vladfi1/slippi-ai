{
 "cells": [
  {
   "cell_type": "code",
   "execution_count": null,
   "id": "c931cd1f",
   "metadata": {},
   "outputs": [],
   "source": [
    "import typing"
   ]
  },
  {
   "cell_type": "code",
   "execution_count": null,
   "id": "91bbaa5d",
   "metadata": {},
   "outputs": [],
   "source": [
    "class NT(typing.NamedTuple):\n",
    "    x: int = 0\n",
    "    y: float = 1.0"
   ]
  },
  {
   "cell_type": "code",
   "execution_count": null,
   "id": "02b82c98",
   "metadata": {},
   "outputs": [],
   "source": [
    "NT._fields"
   ]
  },
  {
   "cell_type": "code",
   "execution_count": null,
   "id": "5b46fece",
   "metadata": {},
   "outputs": [],
   "source": [
    "T = typing.TypeVar(\"T\")"
   ]
  },
  {
   "cell_type": "code",
   "execution_count": null,
   "id": "d77265ee",
   "metadata": {},
   "outputs": [],
   "source": [
    "class GenericNT(typing.NamedTuple):\n",
    "    x: T\n",
    "    y: T"
   ]
  },
  {
   "cell_type": "code",
   "execution_count": null,
   "id": "31e019f1",
   "metadata": {},
   "outputs": [],
   "source": [
    "GenericNT(1, 2)"
   ]
  },
  {
   "cell_type": "code",
   "execution_count": null,
   "id": "a7e140e3",
   "metadata": {},
   "outputs": [],
   "source": [
    "import tree"
   ]
  },
  {
   "cell_type": "code",
   "execution_count": null,
   "id": "391980ff",
   "metadata": {},
   "outputs": [],
   "source": [
    "tree.map_structure(lambda x: x, None)"
   ]
  },
  {
   "cell_type": "code",
   "execution_count": null,
   "id": "b5e5b37b",
   "metadata": {},
   "outputs": [],
   "source": [
    "NT(*[1, 2])"
   ]
  },
  {
   "cell_type": "code",
   "execution_count": null,
   "id": "0d9e64cd",
   "metadata": {},
   "outputs": [],
   "source": [
    "from dataclasses import dataclass"
   ]
  },
  {
   "cell_type": "code",
   "execution_count": null,
   "id": "a562aa3d",
   "metadata": {},
   "outputs": [],
   "source": [
    "@dataclass\n",
    "class DC:\n",
    "    x: int"
   ]
  },
  {
   "cell_type": "code",
   "execution_count": null,
   "id": "17cc605e",
   "metadata": {},
   "outputs": [],
   "source": [
    "DC.__dataclass_fields__"
   ]
  },
  {
   "cell_type": "code",
   "execution_count": null,
   "id": "cec97d12",
   "metadata": {},
   "outputs": [],
   "source": [
    "DC.__annotations__"
   ]
  },
  {
   "cell_type": "code",
   "execution_count": null,
   "id": "12242736",
   "metadata": {},
   "outputs": [],
   "source": []
  }
 ],
 "metadata": {
  "kernelspec": {
   "display_name": "Python 3 (ipykernel)",
   "language": "python",
   "name": "python3"
  },
  "language_info": {
   "codemirror_mode": {
    "name": "ipython",
    "version": 3
   },
   "file_extension": ".py",
   "mimetype": "text/x-python",
   "name": "python",
   "nbconvert_exporter": "python",
   "pygments_lexer": "ipython3",
   "version": "3.9.12"
  }
 },
 "nbformat": 4,
 "nbformat_minor": 5
}
