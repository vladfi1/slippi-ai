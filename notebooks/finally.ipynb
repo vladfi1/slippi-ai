{
 "cells": [
  {
   "cell_type": "code",
   "execution_count": null,
   "id": "bc7f59c6",
   "metadata": {},
   "outputs": [],
   "source": [
    "def raise_exception():\n",
    "    raise ValueError('asdf')\n",
    "\n",
    "def safe_raise():\n",
    "    try:\n",
    "        return raise_exception()\n",
    "    finally:\n",
    "        print('finally')"
   ]
  },
  {
   "cell_type": "code",
   "execution_count": null,
   "id": "51850af8",
   "metadata": {},
   "outputs": [],
   "source": [
    "safe_raise()"
   ]
  },
  {
   "cell_type": "code",
   "execution_count": null,
   "id": "0b2f7d7e",
   "metadata": {},
   "outputs": [],
   "source": [
    "issubclass(MemoryError, Exception)"
   ]
  },
  {
   "cell_type": "code",
   "execution_count": null,
   "id": "3469a594",
   "metadata": {},
   "outputs": [],
   "source": []
  }
 ],
 "metadata": {
  "kernelspec": {
   "display_name": "Python 3 (ipykernel)",
   "language": "python",
   "name": "python3"
  },
  "language_info": {
   "codemirror_mode": {
    "name": "ipython",
    "version": 3
   },
   "file_extension": ".py",
   "mimetype": "text/x-python",
   "name": "python",
   "nbconvert_exporter": "python",
   "pygments_lexer": "ipython3",
   "version": "3.9.5"
  }
 },
 "nbformat": 4,
 "nbformat_minor": 5
}
