{
 "cells": [
  {
   "cell_type": "code",
   "execution_count": null,
   "id": "f28722f5",
   "metadata": {},
   "outputs": [],
   "source": [
    "import time\n",
    "import ray\n",
    "import concurrent\n",
    "import asyncio\n",
    "from tqdm import tqdm\n",
    "\n",
    "from typing import List"
   ]
  },
  {
   "cell_type": "code",
   "execution_count": null,
   "id": "a40ed969",
   "metadata": {},
   "outputs": [],
   "source": [
    "@ray.remote\n",
    "def work(secs):\n",
    "    time.sleep(secs)\n",
    "    return secs\n",
    "\n",
    "def monitor(\n",
    "    futures: List[concurrent.futures.Future],\n",
    "    log_interval: int = 5,\n",
    "):\n",
    "    total_items = len(futures)\n",
    "    start_time = time.perf_counter()\n",
    "    last_log = start_time\n",
    "    finished_items = 0\n",
    "    for _ in concurrent.futures.as_completed(futures):\n",
    "        finished_items += 1\n",
    "        current_time = time.perf_counter()\n",
    "        if current_time - last_log > log_interval:\n",
    "            run_time = current_time - start_time\n",
    "            items_per_second = finished_items / run_time\n",
    "            num_items_remaining = total_items - finished_items\n",
    "            estimated_time_remaining = num_items_remaining / items_per_second\n",
    "            progress_percent = finished_items / total_items\n",
    "            print(\n",
    "                f'{finished_items}/{total_items} = {100 * progress_percent:.1f}% '\n",
    "                f'rate={items_per_second:.1f} '\n",
    "                f'eta={estimated_time_remaining:.0f}'\n",
    "            )\n",
    "            last_log = current_time"
   ]
  },
  {
   "cell_type": "code",
   "execution_count": null,
   "id": "118fc2ff",
   "metadata": {},
   "outputs": [],
   "source": [
    "def foo():\n",
    "    futures = [work.remote(i).future() for i in range(10)]\n",
    "    monitor(futures, log_interval=2)"
   ]
  },
  {
   "cell_type": "code",
   "execution_count": null,
   "id": "c52ce52b",
   "metadata": {},
   "outputs": [],
   "source": [
    "foo()"
   ]
  },
  {
   "cell_type": "code",
   "execution_count": null,
   "id": "ad2a0185",
   "metadata": {},
   "outputs": [],
   "source": [
    "tqdm?"
   ]
  },
  {
   "cell_type": "code",
   "execution_count": null,
   "id": "7402b23b",
   "metadata": {},
   "outputs": [],
   "source": [
    "ft.result()"
   ]
  },
  {
   "cell_type": "code",
   "execution_count": null,
   "id": "83faf5aa",
   "metadata": {},
   "outputs": [],
   "source": []
  }
 ],
 "metadata": {
  "kernelspec": {
   "display_name": "Python 3 (ipykernel)",
   "language": "python",
   "name": "python3"
  },
  "language_info": {
   "codemirror_mode": {
    "name": "ipython",
    "version": 3
   },
   "file_extension": ".py",
   "mimetype": "text/x-python",
   "name": "python",
   "nbconvert_exporter": "python",
   "pygments_lexer": "ipython3",
   "version": "3.9.9"
  }
 },
 "nbformat": 4,
 "nbformat_minor": 5
}
