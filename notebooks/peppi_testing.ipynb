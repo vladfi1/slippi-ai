{
 "cells": [
  {
   "cell_type": "code",
   "execution_count": null,
   "id": "a3fad78e",
   "metadata": {},
   "outputs": [],
   "source": [
    "import os"
   ]
  },
  {
   "cell_type": "code",
   "execution_count": null,
   "id": "de724c23",
   "metadata": {},
   "outputs": [],
   "source": [
    "test_file = '../data/test/Game_20211113T124748.slp'\n",
    "buggy_file = '../data/test/18_29_53 Kirby + Falco.slp'"
   ]
  },
  {
   "cell_type": "code",
   "execution_count": null,
   "id": "15222d0f",
   "metadata": {},
   "outputs": [],
   "source": [
    "import peppi_py"
   ]
  },
  {
   "cell_type": "code",
   "execution_count": null,
   "id": "ddcadd55",
   "metadata": {},
   "outputs": [],
   "source": [
    "peppi_py.game(test_file, rollbacks=True);"
   ]
  },
  {
   "cell_type": "code",
   "execution_count": null,
   "id": "5c7c2be0",
   "metadata": {},
   "outputs": [],
   "source": [
    "game = peppi_py.game(test_file)"
   ]
  },
  {
   "cell_type": "code",
   "execution_count": null,
   "id": "c35c8b59",
   "metadata": {},
   "outputs": [],
   "source": [
    "frames = game['frames']\n",
    "ports = frames.field('ports')\n",
    "port_names = list(ports[0])"
   ]
  },
  {
   "cell_type": "code",
   "execution_count": null,
   "id": "252fab87",
   "metadata": {},
   "outputs": [],
   "source": [
    "p0 = ports.field('0')\n",
    "leader = p0.field('leader')\n",
    "post = leader.field('post')\n",
    "position = post.field('position')\n",
    "get_post = lambda key: post.field(key).to_numpy()"
   ]
  },
  {
   "cell_type": "code",
   "execution_count": null,
   "id": "c38ef4ca",
   "metadata": {},
   "outputs": [],
   "source": [
    "post[0]['flags']"
   ]
  },
  {
   "cell_type": "code",
   "execution_count": null,
   "id": "1be75fd5",
   "metadata": {},
   "outputs": [],
   "source": [
    "leader[0]"
   ]
  },
  {
   "cell_type": "code",
   "execution_count": null,
   "id": "1794972b",
   "metadata": {},
   "outputs": [],
   "source": [
    "import numpy as np"
   ]
  },
  {
   "cell_type": "code",
   "execution_count": null,
   "id": "97c7ca99",
   "metadata": {},
   "outputs": [],
   "source": [
    "xs = np.arange(3, dtype=np.float32)"
   ]
  },
  {
   "cell_type": "code",
   "execution_count": null,
   "id": "e4ea1e79",
   "metadata": {},
   "outputs": [],
   "source": [
    "xs / 2."
   ]
  },
  {
   "cell_type": "code",
   "execution_count": null,
   "id": "4811f7bb",
   "metadata": {},
   "outputs": [],
   "source": [
    "leader[0]['post']"
   ]
  },
  {
   "cell_type": "code",
   "execution_count": null,
   "id": "becfff07",
   "metadata": {},
   "outputs": [],
   "source": [
    "game['metadata']"
   ]
  },
  {
   "cell_type": "code",
   "execution_count": null,
   "id": "9634a075",
   "metadata": {},
   "outputs": [],
   "source": [
    "type(game['metadata']['players']['1']['names'])"
   ]
  },
  {
   "cell_type": "code",
   "execution_count": null,
   "id": "0116bca8",
   "metadata": {},
   "outputs": [],
   "source": [
    "game['start']"
   ]
  },
  {
   "cell_type": "code",
   "execution_count": null,
   "id": "c72212d2",
   "metadata": {},
   "outputs": [],
   "source": [
    "game['end']"
   ]
  },
  {
   "cell_type": "code",
   "execution_count": null,
   "id": "3ebb349d",
   "metadata": {},
   "outputs": [],
   "source": []
  }
 ],
 "metadata": {
  "kernelspec": {
   "display_name": "Python 3 (ipykernel)",
   "language": "python",
   "name": "python3"
  },
  "language_info": {
   "codemirror_mode": {
    "name": "ipython",
    "version": 3
   },
   "file_extension": ".py",
   "mimetype": "text/x-python",
   "name": "python",
   "nbconvert_exporter": "python",
   "pygments_lexer": "ipython3",
   "version": "3.9.9"
  }
 },
 "nbformat": 4,
 "nbformat_minor": 5
}
