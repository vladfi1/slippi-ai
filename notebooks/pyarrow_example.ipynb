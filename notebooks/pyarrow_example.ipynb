{
 "cells": [
  {
   "cell_type": "code",
   "execution_count": 1,
   "id": "8c626cc4",
   "metadata": {},
   "outputs": [],
   "source": [
    "import pandas as pd"
   ]
  },
  {
   "cell_type": "code",
   "execution_count": 2,
   "id": "0120fc2b",
   "metadata": {},
   "outputs": [],
   "source": [
    "df = pd.read_parquet('../data/pq/meta.pq')"
   ]
  },
  {
   "cell_type": "code",
   "execution_count": 3,
   "id": "41bb54aa",
   "metadata": {},
   "outputs": [
    {
     "data": {
      "text/plain": [
       "195536"
      ]
     },
     "execution_count": 3,
     "metadata": {},
     "output_type": "execute_result"
    }
   ],
   "source": [
    "len(df)"
   ]
  },
  {
   "cell_type": "code",
   "execution_count": 7,
   "id": "8d7e61ba",
   "metadata": {
    "collapsed": true
   },
   "outputs": [
    {
     "data": {
      "text/plain": [
       "['startAt',\n",
       " 'lastFrame',\n",
       " 'playedOn',\n",
       " 'slippi_version',\n",
       " 'num_players',\n",
       " 'stage',\n",
       " 'timer',\n",
       " 'is_teams',\n",
       " 'winner',\n",
       " 'key',\n",
       " 'p0.port',\n",
       " 'p0.character',\n",
       " 'p0.type',\n",
       " 'p0.name_tag',\n",
       " 'p1.port',\n",
       " 'p1.character',\n",
       " 'p1.type',\n",
       " 'p1.name_tag']"
      ]
     },
     "execution_count": 7,
     "metadata": {},
     "output_type": "execute_result"
    }
   ],
   "source": [
    "list(df.columns)"
   ]
  },
  {
   "cell_type": "code",
   "execution_count": 3,
   "id": "1e290568",
   "metadata": {},
   "outputs": [],
   "source": [
    "import pyarrow as pa\n",
    "import pyarrow.parquet as pq"
   ]
  },
  {
   "cell_type": "code",
   "execution_count": 5,
   "id": "e3d3d33a",
   "metadata": {},
   "outputs": [],
   "source": [
    "table = pq.read_table('../data/untracked/test_pq/games/00b1538e10a03889502867dec3bcd61b')"
   ]
  },
  {
   "cell_type": "code",
   "execution_count": 6,
   "id": "890bfdee",
   "metadata": {},
   "outputs": [],
   "source": [
    "game_pa = table['root'].combine_chunks()"
   ]
  },
  {
   "cell_type": "code",
   "execution_count": 7,
   "id": "e4c11432",
   "metadata": {},
   "outputs": [],
   "source": [
    "g0 = game_pa[0]"
   ]
  },
  {
   "cell_type": "code",
   "execution_count": 8,
   "id": "bfcc6d4f",
   "metadata": {},
   "outputs": [
    {
     "data": {
      "text/plain": [
       "{'p0': {'percent': 0,\n",
       "  'facing': True,\n",
       "  'x': -38.79999923706055,\n",
       "  'y': 35.20000076293945,\n",
       "  'action': 322,\n",
       "  'invulnerable': False,\n",
       "  'character': 22,\n",
       "  'jumps_left': 1,\n",
       "  'shield_strength': 60.0,\n",
       "  'on_ground': False,\n",
       "  'controller': {'main_stick': {'x': 0.5, 'y': 0.5},\n",
       "   'c_stick': {'x': 0.5, 'y': 0.5},\n",
       "   'shoulder': 0.0,\n",
       "   'buttons': {'A': False,\n",
       "    'B': False,\n",
       "    'X': False,\n",
       "    'Y': False,\n",
       "    'Z': False,\n",
       "    'R': False,\n",
       "    'L': False,\n",
       "    'START': False,\n",
       "    'D_LEFT': False,\n",
       "    'D_RIGHT': False,\n",
       "    'D_DOWN': False,\n",
       "    'D_UP': False}}},\n",
       " 'p1': {'percent': 0,\n",
       "  'facing': False,\n",
       "  'x': 38.79999923706055,\n",
       "  'y': 35.20000076293945,\n",
       "  'action': 322,\n",
       "  'invulnerable': False,\n",
       "  'character': 25,\n",
       "  'jumps_left': 1,\n",
       "  'shield_strength': 60.0,\n",
       "  'on_ground': False,\n",
       "  'controller': {'main_stick': {'x': 0.5, 'y': 0.5},\n",
       "   'c_stick': {'x': 0.5, 'y': 0.5},\n",
       "   'shoulder': 0.0,\n",
       "   'buttons': {'A': False,\n",
       "    'B': False,\n",
       "    'X': False,\n",
       "    'Y': False,\n",
       "    'Z': False,\n",
       "    'R': False,\n",
       "    'L': False,\n",
       "    'START': False,\n",
       "    'D_LEFT': False,\n",
       "    'D_RIGHT': False,\n",
       "    'D_DOWN': False,\n",
       "    'D_UP': False}}},\n",
       " 'stage': 24}"
      ]
     },
     "execution_count": 8,
     "metadata": {},
     "output_type": "execute_result"
    }
   ],
   "source": [
    "g0.as_py()"
   ]
  },
  {
   "cell_type": "code",
   "execution_count": null,
   "id": "ab8a9556",
   "metadata": {},
   "outputs": [],
   "source": []
  }
 ],
 "metadata": {
  "kernelspec": {
   "display_name": "Python 3 (ipykernel)",
   "language": "python",
   "name": "python3"
  },
  "language_info": {
   "codemirror_mode": {
    "name": "ipython",
    "version": 3
   },
   "file_extension": ".py",
   "mimetype": "text/x-python",
   "name": "python",
   "nbconvert_exporter": "python",
   "pygments_lexer": "ipython3",
   "version": "3.9.12"
  }
 },
 "nbformat": 4,
 "nbformat_minor": 5
}
