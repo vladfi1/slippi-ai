{
 "cells": [
  {
   "cell_type": "code",
   "execution_count": null,
   "id": "a266803f",
   "metadata": {},
   "outputs": [],
   "source": [
    "import collections\n",
    "import pandas as pd\n",
    "import melee\n",
    "from slippi_db import upload_lib, test_peppi, preprocessing"
   ]
  },
  {
   "cell_type": "code",
   "execution_count": null,
   "id": "1d11ba19",
   "metadata": {},
   "outputs": [],
   "source": [
    "singles_infos = test_peppi.get_singles_info('prod')"
   ]
  },
  {
   "cell_type": "code",
   "execution_count": null,
   "id": "0f28e986",
   "metadata": {},
   "outputs": [],
   "source": [
    "print(len(singles_infos))"
   ]
  },
  {
   "cell_type": "code",
   "execution_count": null,
   "id": "bf64477e",
   "metadata": {},
   "outputs": [],
   "source": [
    "def to_row(game: dict) -> dict:\n",
    "    row = game.copy()\n",
    "    del row['players']\n",
    "    for i, player in enumerate(game['players']):\n",
    "        for k, v in player.items():\n",
    "            row[f'p{i}.{k}'] = v\n",
    "    return row"
   ]
  },
  {
   "cell_type": "code",
   "execution_count": null,
   "id": "afdfc347",
   "metadata": {},
   "outputs": [],
   "source": [
    "df = pd.DataFrame(map(to_row, singles_infos))"
   ]
  },
  {
   "cell_type": "code",
   "execution_count": null,
   "id": "d48651f5",
   "metadata": {},
   "outputs": [],
   "source": [
    "df.keys()"
   ]
  },
  {
   "cell_type": "code",
   "execution_count": null,
   "id": "2f1227d9",
   "metadata": {},
   "outputs": [],
   "source": [
    "def num_games_as(character: melee.Character) -> int:\n",
    "    total = 0\n",
    "    for i in [0, 1]:\n",
    "        total += (df[f'p{i}.character'] == character.value).sum()\n",
    "    return total"
   ]
  },
  {
   "cell_type": "code",
   "execution_count": null,
   "id": "78fbfdc4",
   "metadata": {},
   "outputs": [],
   "source": [
    "num_games_as(melee.Character.FOX)"
   ]
  },
  {
   "cell_type": "code",
   "execution_count": null,
   "id": "fab2d49f",
   "metadata": {},
   "outputs": [],
   "source": [
    "df.to_parquet('data/prod.pq')"
   ]
  },
  {
   "cell_type": "code",
   "execution_count": null,
   "id": "9c3e2349",
   "metadata": {},
   "outputs": [],
   "source": [
    "objects = upload_lib.bucket.objects.filter(\n",
    "    Prefix='prod/pq/',\n",
    "    MaxKeys=1_000_000,\n",
    ")\n",
    "objects = list(objects)"
   ]
  },
  {
   "cell_type": "code",
   "execution_count": null,
   "id": "281f6d17",
   "metadata": {},
   "outputs": [],
   "source": [
    "len(objects)"
   ]
  },
  {
   "cell_type": "code",
   "execution_count": null,
   "id": "16b78141",
   "metadata": {},
   "outputs": [],
   "source": [
    "s3_keys = []\n",
    "for obj in objects:\n",
    "    key = obj.key.split('/')[-1]\n",
    "    s3_keys.append(key)\n",
    "s3_keys = set(s3_keys)"
   ]
  },
  {
   "cell_type": "code",
   "execution_count": null,
   "id": "e9015bdf",
   "metadata": {},
   "outputs": [],
   "source": [
    "parsed_db = upload_lib.get_db('prod', upload_lib.PQ)\n",
    "parse_failures = list(parsed_db.find({'failed': True}))"
   ]
  },
  {
   "cell_type": "code",
   "execution_count": null,
   "id": "172303bd",
   "metadata": {},
   "outputs": [],
   "source": [
    "failed_keys = set(doc['key'] for doc in parse_failures)"
   ]
  },
  {
   "cell_type": "code",
   "execution_count": null,
   "id": "70586184",
   "metadata": {},
   "outputs": [],
   "source": [
    "# check that all but failed parses are in s3 bucket\n",
    "for key in df['key']:\n",
    "    if key in s3_keys:\n",
    "        continue\n",
    "    \n",
    "    assert key in failed_keys"
   ]
  }
 ],
 "metadata": {
  "kernelspec": {
   "display_name": "Python 3 (ipykernel)",
   "language": "python",
   "name": "python3"
  },
  "language_info": {
   "codemirror_mode": {
    "name": "ipython",
    "version": 3
   },
   "file_extension": ".py",
   "mimetype": "text/x-python",
   "name": "python",
   "nbconvert_exporter": "python",
   "pygments_lexer": "ipython3",
   "version": "3.9.12"
  }
 },
 "nbformat": 4,
 "nbformat_minor": 5
}
