{
 "cells": [
  {
   "cell_type": "code",
   "execution_count": null,
   "id": "77ec0dcc",
   "metadata": {},
   "outputs": [],
   "source": [
    "import itertools"
   ]
  },
  {
   "cell_type": "code",
   "execution_count": null,
   "id": "64ad100b",
   "metadata": {},
   "outputs": [],
   "source": [
    "itertools.islice?"
   ]
  },
  {
   "cell_type": "code",
   "execution_count": null,
   "id": "db5e75ab",
   "metadata": {},
   "outputs": [],
   "source": [
    "def test(swap=False):\n",
    "    it = iter(range(10))\n",
    "    it1 = itertools.islice(it, 5)\n",
    "    it2 = itertools.islice(it, 5)\n",
    "    \n",
    "    if swap:\n",
    "        it1, it2 = it2, it1\n",
    "    return list(it1) + list(it2)"
   ]
  },
  {
   "cell_type": "code",
   "execution_count": null,
   "id": "a4384379",
   "metadata": {},
   "outputs": [],
   "source": [
    "test()"
   ]
  },
  {
   "cell_type": "code",
   "execution_count": null,
   "id": "20e700f5",
   "metadata": {},
   "outputs": [],
   "source": [
    "test(True)"
   ]
  },
  {
   "cell_type": "code",
   "execution_count": null,
   "id": "699e8bcc",
   "metadata": {},
   "outputs": [],
   "source": []
  }
 ],
 "metadata": {
  "kernelspec": {
   "display_name": "Python 3 (ipykernel)",
   "language": "python",
   "name": "python3"
  },
  "language_info": {
   "codemirror_mode": {
    "name": "ipython",
    "version": 3
   },
   "file_extension": ".py",
   "mimetype": "text/x-python",
   "name": "python",
   "nbconvert_exporter": "python",
   "pygments_lexer": "ipython3",
   "version": "3.9.12"
  }
 },
 "nbformat": 4,
 "nbformat_minor": 5
}
