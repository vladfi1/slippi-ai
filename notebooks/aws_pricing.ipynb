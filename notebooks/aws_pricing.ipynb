{
 "cells": [
  {
   "cell_type": "code",
   "execution_count": null,
   "metadata": {},
   "outputs": [],
   "source": [
    "GP3_PER_GB_MONTH = 0.08\n",
    "GP3_PER_GB_HOUR = GP3_PER_MONTH / (31 * 24)\n",
    "\n",
    "GB_PER_INSTANCE = 5\n",
    "GP3_PER_HOUR = GP3_PER_GB_HOUR * GB_PER_INSTANCE"
   ]
  },
  {
   "cell_type": "code",
   "execution_count": null,
   "metadata": {},
   "outputs": [],
   "source": [
    "# from https://instances.vantage.sh/?pricing_unit=vcpu\n",
    "INSTANCE_COSTS = {\n",
    "    't3_nano': (0.0026, 2),\n",
    "}"
   ]
  },
  {
   "cell_type": "code",
   "execution_count": null,
   "metadata": {},
   "outputs": [],
   "source": [
    "def get_hourly_price(instance_type: str):\n",
    "    price_per_vcpu, num_vcpus = INSTANCE_COSTS[instance_type]\n",
    "    return price_per_vcpu + GP3_PER_HOUR / num_vcpus"
   ]
  },
  {
   "cell_type": "code",
   "execution_count": null,
   "metadata": {},
   "outputs": [],
   "source": [
    "get_hourly_price('t3_nano') * 100 * 24"
   ]
  },
  {
   "cell_type": "code",
   "execution_count": null,
   "metadata": {},
   "outputs": [],
   "source": []
  }
 ],
 "metadata": {
  "kernelspec": {
   "display_name": "Python 3 (ipykernel)",
   "language": "python",
   "name": "python3"
  },
  "language_info": {
   "codemirror_mode": {
    "name": "ipython",
    "version": 3
   },
   "file_extension": ".py",
   "mimetype": "text/x-python",
   "name": "python",
   "nbconvert_exporter": "python",
   "pygments_lexer": "ipython3",
   "version": "3.9.9"
  }
 },
 "nbformat": 4,
 "nbformat_minor": 4
}
